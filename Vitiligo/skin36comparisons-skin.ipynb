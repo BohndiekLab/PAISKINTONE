{
 "cells": [
  {
   "cell_type": "code",
   "execution_count": 21,
   "id": "76ac0363-66c9-471f-821c-f2e09edaf35f",
   "metadata": {},
   "outputs": [],
   "source": [
    "from pathlib import Path\n",
    "import patato as pat\n",
    "import numpy as np\n",
    "import pandas as pd\n",
    "from collections import defaultdict\n",
    "import matplotlib.pyplot as plt\n",
    "from scipy.stats import ttest_ind\n",
    "\n",
    "from paiskintonetools import setup_matplotlib\n",
    "\n",
    "from paiskintonetools.correction_factor import get_correction_factor_interpolator\n",
    "\n",
    "setup_matplotlib(300)"
   ]
  },
  {
   "cell_type": "code",
   "execution_count": 22,
   "id": "5700acd0-5660-4670-a784-6a1cc960ee52",
   "metadata": {},
   "outputs": [],
   "source": [
    "unmixer = pat.SpectralUnmixer(\n",
    "    chromophores=[\"Hb\", \"HbO2\"], wavelengths=[700.0, 730.0, 760.0, 800.0, 850.0]\n",
    ")\n",
    "correct = False\n",
    "\n",
    "\n",
    "correction_factor_spline = get_correction_factor_interpolator(\n",
    "    \"../Fluence Correction/cali_curve.csv\"\n",
    ")\n",
    "\n",
    "df_scans = pd.read_parquet(\"../01_Prepare Data/scan_table.parquet\")\n",
    "df_scans = df_scans.query(\"SkinID=='SKIN36' and Region=='Carotid Artery'\").set_index(\n",
    "    \"ScanNumber\"\n",
    ")[[\"ITA\"]]"
   ]
  },
  {
   "cell_type": "code",
   "execution_count": 23,
   "id": "a28a61fb-b2cc-4e40-aad5-05e1296f8f83",
   "metadata": {},
   "outputs": [],
   "source": [
    "# wavelength = np.linspace(700, 900)\n",
    "# mvf = np.logspace(np.log10(0.02), np.log10(0.4), 6)\n",
    "# for i in mvf:\n",
    "#     plt.plot(wavelength, np.exp(-correction_factor_spline((wavelength, i))))\n",
    "# plt.show()"
   ]
  },
  {
   "cell_type": "code",
   "execution_count": 24,
   "id": "22fb2679-cfd3-4466-97d6-5eaff262ffb9",
   "metadata": {},
   "outputs": [
    {
     "name": "stdout",
     "output_type": "stream",
     "text": [
      "(400, 1, 400) (400, 1, 400)\n",
      "(400, 1, 400) (400, 1, 400)\n",
      "(400, 1, 400) (400, 1, 400)\n",
      "(400, 1, 400) (400, 1, 400)\n",
      "(400, 1, 400) (400, 1, 400)\n",
      "(400, 1, 400) (400, 1, 400)\n"
     ]
    }
   ],
   "source": [
    "import json\n",
    "\n",
    "settings = json.load(open(\"../data_paths.json\", \"r\"))\n",
    "root_data_path = (Path.cwd() / \"../\" / settings[\"vitiligo_data_path\"]).resolve()\n",
    "\n",
    "data_folder = root_data_path / \"SKIN36\"\n",
    "measurements = defaultdict(list)\n",
    "measurements_corrected = defaultdict(list)\n",
    "\n",
    "for f in data_folder.glob(\"*.hdf5\"):\n",
    "    pa = pat.PAData.from_hdf5(f)\n",
    "    scan_number = int(f.stem.split(\"_\")[-1])\n",
    "    pa.set_default_recon((\"Model Based\", \"0\"))\n",
    "    if scan_number not in df_scans.index:\n",
    "        pa.scan_reader.file.close()\n",
    "        continue\n",
    "    ita = df_scans.loc[scan_number, \"ITA\"]\n",
    "    if (\"skin_\", \"0\") not in pa.get_rois():\n",
    "        pa.scan_reader.file.close()\n",
    "        continue\n",
    "    else:\n",
    "        r = pa.get_rois()[\"skin_\", \"0\"]\n",
    "        rec = pa.get_scan_reconstructions()\n",
    "        rec.raw_data = np.array(rec.raw_data)\n",
    "\n",
    "        mask, _ = r.to_mask_slice(rec)\n",
    "\n",
    "        mask[np.any(rec.raw_data[0, :4] < 0, axis=0)] = False\n",
    "\n",
    "        thb = rec.raw_data[0, 0]\n",
    "        print(thb.shape, mask.shape)\n",
    "\n",
    "        measurements[pa.get_scan_name().split(\"-\")[1]].append(np.mean(thb[mask]))"
   ]
  },
  {
   "cell_type": "code",
   "execution_count": 25,
   "id": "920d56df-5d73-43a6-bcff-00d01e4220d9",
   "metadata": {},
   "outputs": [
    {
     "data": {
      "text/html": [
       "<div>\n",
       "<style scoped>\n",
       "    .dataframe tbody tr th:only-of-type {\n",
       "        vertical-align: middle;\n",
       "    }\n",
       "\n",
       "    .dataframe tbody tr th {\n",
       "        vertical-align: top;\n",
       "    }\n",
       "\n",
       "    .dataframe thead th {\n",
       "        text-align: right;\n",
       "    }\n",
       "</style>\n",
       "<table border=\"1\" class=\"dataframe\">\n",
       "  <thead>\n",
       "    <tr style=\"text-align: right;\">\n",
       "      <th></th>\n",
       "      <th>ITA</th>\n",
       "    </tr>\n",
       "    <tr>\n",
       "      <th>ScanNumber</th>\n",
       "      <th></th>\n",
       "    </tr>\n",
       "  </thead>\n",
       "  <tbody>\n",
       "    <tr>\n",
       "      <th>21</th>\n",
       "      <td>26.936667</td>\n",
       "    </tr>\n",
       "    <tr>\n",
       "      <th>22</th>\n",
       "      <td>26.936667</td>\n",
       "    </tr>\n",
       "    <tr>\n",
       "      <th>23</th>\n",
       "      <td>26.936667</td>\n",
       "    </tr>\n",
       "    <tr>\n",
       "      <th>18</th>\n",
       "      <td>1.090000</td>\n",
       "    </tr>\n",
       "    <tr>\n",
       "      <th>19</th>\n",
       "      <td>1.090000</td>\n",
       "    </tr>\n",
       "    <tr>\n",
       "      <th>20</th>\n",
       "      <td>1.090000</td>\n",
       "    </tr>\n",
       "  </tbody>\n",
       "</table>\n",
       "</div>"
      ],
      "text/plain": [
       "                  ITA\n",
       "ScanNumber           \n",
       "21          26.936667\n",
       "22          26.936667\n",
       "23          26.936667\n",
       "18           1.090000\n",
       "19           1.090000\n",
       "20           1.090000"
      ]
     },
     "execution_count": 25,
     "metadata": {},
     "output_type": "execute_result"
    }
   ],
   "source": [
    "df_scans"
   ]
  },
  {
   "cell_type": "code",
   "execution_count": 26,
   "id": "0086e72c-5d56-47b3-a08b-fa7eb18ecc10",
   "metadata": {},
   "outputs": [
    {
     "data": {
      "text/plain": [
       "defaultdict(list,\n",
       "            {'pigment': [0.01734499257299372,\n",
       "              0.023893044580193572,\n",
       "              0.026680720977862563],\n",
       "             'nopigment': [0.008521532530505927,\n",
       "              0.00701973197671584,\n",
       "              0.008240745717741275]})"
      ]
     },
     "execution_count": 26,
     "metadata": {},
     "output_type": "execute_result"
    }
   ],
   "source": [
    "measurements"
   ]
  },
  {
   "cell_type": "code",
   "execution_count": 27,
   "id": "f71cc15a-28b6-44d9-bb96-003d3afe56ad",
   "metadata": {},
   "outputs": [],
   "source": [
    "dfs = [pd.DataFrame(x) for x in [measurements]]\n",
    "df = pd.concat(dfs, axis=1)"
   ]
  },
  {
   "cell_type": "code",
   "execution_count": null,
   "id": "304de378-140e-479e-b38c-ea4d69a40a0d",
   "metadata": {},
   "outputs": [],
   "source": []
  },
  {
   "cell_type": "code",
   "execution_count": 28,
   "id": "a90d4b07-36d6-4005-a859-d468e4f257d1",
   "metadata": {},
   "outputs": [
    {
     "data": {
      "image/png": "[encoded data removed]",
      "text/plain": [
       "<Figure size 900x600 with 1 Axes>"
      ]
     },
     "metadata": {},
     "output_type": "display_data"
    }
   ],
   "source": [
    "df.boxplot(grid=False, figsize=(3, 2), meanline=True)\n",
    "# plt.plot([1, 2], [0.875+3.196/100, 0.875], c=\"C1\")\n",
    "plt.show()"
   ]
  },
  {
   "cell_type": "code",
   "execution_count": 29,
   "id": "a5089c02-e0ad-4945-99f5-89024a6a4738",
   "metadata": {},
   "outputs": [
    {
     "data": {
      "text/plain": [
       "pigment      0.022640\n",
       "nopigment    0.007927\n",
       "dtype: float64"
      ]
     },
     "metadata": {},
     "output_type": "display_data"
    },
    {
     "data": {
      "text/plain": [
       "pigment      0.002767\n",
       "nopigment    0.000461\n",
       "dtype: float64"
      ]
     },
     "metadata": {},
     "output_type": "display_data"
    }
   ],
   "source": [
    "m = dfs[0].mean()\n",
    "s = dfs[0].std() / np.sqrt(3)\n",
    "display(m)\n",
    "display(s)"
   ]
  },
  {
   "cell_type": "code",
   "execution_count": 30,
   "id": "e30c87c5-6e16-4a73-9f33-6111a969ecc7",
   "metadata": {},
   "outputs": [
    {
     "name": "stdout",
     "output_type": "stream",
     "text": [
      "TtestResult(statistic=5.244923109820364, pvalue=0.00631901782561806, df=4.0)\n"
     ]
    }
   ],
   "source": [
    "print(ttest_ind(dfs[0][\"pigment\"], dfs[0][\"nopigment\"]))"
   ]
  },
  {
   "cell_type": "code",
   "execution_count": 31,
   "id": "213fc68e-675c-4422-a4cc-48b752a89ab1",
   "metadata": {},
   "outputs": [
    {
     "name": "stdout",
     "output_type": "stream",
     "text": [
      "0.01±0.00\n"
     ]
    }
   ],
   "source": [
    "delta = m[\"pigment\"] - m[\"nopigment\"]\n",
    "uncertainty = np.linalg.norm(s)\n",
    "\n",
    "print(f\"{delta:.2f}±{uncertainty:.2f}\")"
   ]
  },
  {
   "cell_type": "code",
   "execution_count": 32,
   "id": "4657aa63-38ef-4055-b861-89d3fbc28697",
   "metadata": {},
   "outputs": [
    {
     "data": {
      "text/plain": [
       "1134.1304310499386"
      ]
     },
     "execution_count": 32,
     "metadata": {},
     "output_type": "execute_result"
    }
   ],
   "source": [
    "predicted = 3.196\n",
    "np.abs((predicted - delta) / uncertainty)"
   ]
  },
  {
   "cell_type": "code",
   "execution_count": null,
   "id": "80404435-9def-421e-a24c-b38f7a14bd86",
   "metadata": {},
   "outputs": [],
   "source": []
  }
 ],
 "metadata": {
  "kernelspec": {
   "display_name": "project",
   "language": "python",
   "name": "project"
  },
  "language_info": {
   "codemirror_mode": {
    "name": "ipython",
    "version": 3
   },
   "file_extension": ".py",
   "mimetype": "text/x-python",
   "name": "python",
   "nbconvert_exporter": "python",
   "pygments_lexer": "ipython3",
   "version": "3.12.9"
  }
 },
 "nbformat": 4,
 "nbformat_minor": 5
}
