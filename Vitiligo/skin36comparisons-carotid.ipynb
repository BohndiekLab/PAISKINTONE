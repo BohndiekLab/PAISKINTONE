{
 "cells": [
  {
   "cell_type": "code",
   "execution_count": null,
   "id": "76ac0363-66c9-471f-821c-f2e09edaf35f",
   "metadata": {},
   "outputs": [],
   "source": [
    "from pathlib import Path\n",
    "import patato as pat\n",
    "import numpy as np\n",
    "import pandas as pd\n",
    "from collections import defaultdict\n",
    "import matplotlib.pyplot as plt\n",
    "from scipy.stats import ttest_ind\n",
    "\n",
    "from paiskintonetools import setup_matplotlib\n",
    "\n",
    "from paiskintonetools.correction_factor import get_correction_factor_interpolator\n",
    "\n",
    "setup_matplotlib(300)"
   ]
  },
  {
   "cell_type": "code",
   "execution_count": 5,
   "id": "5700acd0-5660-4670-a784-6a1cc960ee52",
   "metadata": {},
   "outputs": [],
   "source": [
    "unmixer = pat.SpectralUnmixer(\n",
    "    chromophores=[\"Hb\", \"HbO2\"], wavelengths=[700.0, 730.0, 760.0, 800.0, 850.0]\n",
    ")\n",
    "correct = False\n",
    "\n",
    "\n",
    "correction_factor_spline = get_correction_factor_interpolator(\n",
    "    \"../Fluence Correction/cali_curve.csv\"\n",
    ")\n",
    "\n",
    "df_scans = pd.read_parquet(\"../01_Prepare Data/scan_table.parquet\")\n",
    "df_scans = df_scans.query(\"SkinID=='SKIN36' and Region=='Carotid Artery'\").set_index(\n",
    "    \"ScanNumber\"\n",
    ")[[\"ITA\"]]"
   ]
  },
  {
   "cell_type": "code",
   "execution_count": 6,
   "id": "a28a61fb-b2cc-4e40-aad5-05e1296f8f83",
   "metadata": {},
   "outputs": [],
   "source": [
    "# wavelength = np.linspace(700, 900)\n",
    "# mvf = np.logspace(np.log10(0.02), np.log10(0.4), 6)\n",
    "# for i in mvf:\n",
    "#     plt.plot(wavelength, np.exp(-correction_factor_spline((wavelength, i))))\n",
    "# plt.show()\n",
    "# df_scans.loc[[21, 22, 23]] = 40\n",
    "# df_scans.loc[[18,19,20]] = 20"
   ]
  },
  {
   "cell_type": "code",
   "execution_count": 7,
   "id": "22fb2679-cfd3-4466-97d6-5eaff262ffb9",
   "metadata": {},
   "outputs": [
    {
     "name": "stdout",
     "output_type": "stream",
     "text": [
      "0.8832594 neck-pigment-a\n",
      "0.8791436 neck-nopigment-a\n"
     ]
    }
   ],
   "source": [
    "data_folder = Path(\"Data/SKIN36\")\n",
    "measurements = defaultdict(list)\n",
    "measurements_corrected = defaultdict(list)\n",
    "\n",
    "for f in data_folder.glob(\"*.hdf5\"):\n",
    "    pa = pat.PAData.from_hdf5(f)\n",
    "    scan_number = int(f.stem.split(\"_\")[-1])\n",
    "    pa.set_default_recon((\"Model Based\", \"0\"))\n",
    "    if scan_number not in df_scans.index:\n",
    "        pa.scan_reader.file.close()\n",
    "        continue\n",
    "    ita = df_scans.loc[scan_number, \"ITA\"]\n",
    "    if (\"reference_\", \"0\") not in pa.get_rois():\n",
    "        pa.scan_reader.file.close()\n",
    "        continue\n",
    "    else:\n",
    "        r = pa.get_rois()[\"reference_\", \"0\"]\n",
    "        rec = pa.get_scan_reconstructions()\n",
    "        rec.raw_data = np.array(rec.raw_data)\n",
    "\n",
    "        # plt.imshow(np.squeeze(thb), origin=\"lower\")\n",
    "        # plt.imshow(np.squeeze(rec.raw_data[:, 3]), origin=\"lower\")\n",
    "        mask, _ = r.to_mask_slice(rec)\n",
    "        # plt.contour(np.squeeze(mask), origin=\"lower\")\n",
    "        mask[np.any(rec.raw_data[0, :4] < 0, axis=0)] = False\n",
    "\n",
    "        um = unmixer.run(rec, None)[0]\n",
    "        rd = um.raw_data[0]\n",
    "\n",
    "        so2 = rd[1] / (rd[0] + rd[1])\n",
    "        thb = rd[1] + rd[0]\n",
    "\n",
    "        mask[so2 < 0] = False\n",
    "        mask[so2 > 1] = False\n",
    "\n",
    "        mask[thb < np.percentile(thb[mask], 70)] = False\n",
    "        # plt.contour(np.squeeze(mask), origin=\"lower\")\n",
    "        # plt.title(pa.get_scan_name())\n",
    "        # plt.show()\n",
    "        hb, hbo2 = np.mean(rd[0][mask]), np.median(rd[1][mask])\n",
    "        so2_calc = hbo2 / (hb + hbo2)\n",
    "        print(so2_calc, pa.get_scan_name())\n",
    "        measurements[pa.get_scan_name().split(\"-\")[1]].append(\n",
    "            so2_calc * 100\n",
    "        )  # np.mean(so2[mask])*100)\n",
    "\n",
    "        mvf = (19.028 - 0.3692 * ita + 0.001685 * ita**2) / 100\n",
    "        rec.raw_data *= np.exp(\n",
    "            correction_factor_spline((rec.wavelengths, mvf))[None, :, None, None, None]\n",
    "        )\n",
    "        # Rerun the unmixing.\n",
    "        um = unmixer.run(rec, None)[0]\n",
    "        rd = um.raw_data[0]\n",
    "        so2 = rd[1] / (rd[0] + rd[1])\n",
    "\n",
    "        hb, hbo2 = np.mean(rd[0][mask]), np.median(rd[1][mask])\n",
    "        so2_calc = hbo2 / (hb + hbo2)\n",
    "        measurements_corrected[pa.get_scan_name().split(\"-\")[1]].append(\n",
    "            so2_calc * 100\n",
    "        )  # np.mean(so2[mask])*100)"
   ]
  },
  {
   "cell_type": "code",
   "execution_count": 8,
   "id": "0086e72c-5d56-47b3-a08b-fa7eb18ecc10",
   "metadata": {},
   "outputs": [
    {
     "data": {
      "text/plain": [
       "defaultdict(list,\n",
       "            {'pigment': [88.32594156265259], 'nopigment': [87.91435956954956]})"
      ]
     },
     "execution_count": 8,
     "metadata": {},
     "output_type": "execute_result"
    }
   ],
   "source": [
    "measurements"
   ]
  },
  {
   "cell_type": "code",
   "execution_count": 9,
   "id": "f71cc15a-28b6-44d9-bb96-003d3afe56ad",
   "metadata": {},
   "outputs": [],
   "source": [
    "dfs = [pd.DataFrame(x) for x in [measurements, measurements_corrected]]\n",
    "df = pd.concat(dfs, axis=1)"
   ]
  },
  {
   "cell_type": "code",
   "execution_count": 10,
   "id": "a5089c02-e0ad-4945-99f5-89024a6a4738",
   "metadata": {},
   "outputs": [
    {
     "data": {
      "text/plain": [
       "pigment      88.325942\n",
       "nopigment    87.914360\n",
       "dtype: float64"
      ]
     },
     "metadata": {},
     "output_type": "display_data"
    },
    {
     "data": {
      "text/plain": [
       "pigment     NaN\n",
       "nopigment   NaN\n",
       "dtype: float64"
      ]
     },
     "metadata": {},
     "output_type": "display_data"
    }
   ],
   "source": [
    "m = dfs[0].mean()\n",
    "s = dfs[0].std() / np.sqrt(3)\n",
    "display(m)\n",
    "display(s)"
   ]
  },
  {
   "cell_type": "code",
   "execution_count": 11,
   "id": "e30c87c5-6e16-4a73-9f33-6111a969ecc7",
   "metadata": {},
   "outputs": [
    {
     "name": "stdout",
     "output_type": "stream",
     "text": [
      "TtestResult(statistic=nan, pvalue=nan, df=0.0)\n",
      "TtestResult(statistic=nan, pvalue=nan, df=0.0)\n",
      "0.41158199310302734 -2.1796822547912598\n",
      "2.591264247894287\n"
     ]
    },
    {
     "name": "stderr",
     "output_type": "stream",
     "text": [
      "C:\\Users\\tomelse\\Local\\CambridgeBits\\PAISKINTONE\\.venv\\Lib\\site-packages\\scipy\\stats\\_stats_py.py:6195: RuntimeWarning: invalid value encountered in scalar divide\n",
      "  svar = ((n1 - 1) * v1 + (n2 - 1) * v2) / df\n"
     ]
    }
   ],
   "source": [
    "print(ttest_ind(dfs[0][\"pigment\"], dfs[0][\"nopigment\"], alternative=\"greater\"))\n",
    "print(ttest_ind(dfs[1][\"pigment\"], dfs[1][\"nopigment\"], alternative=\"greater\"))\n",
    "\n",
    "print(\n",
    "    dfs[0][\"pigment\"].mean() - dfs[0][\"nopigment\"].mean(),\n",
    "    dfs[1][\"pigment\"].mean() - dfs[1][\"nopigment\"].mean(),\n",
    ")\n",
    "print(\n",
    "    dfs[0][\"pigment\"].mean()\n",
    "    - dfs[0][\"nopigment\"].mean()\n",
    "    - (dfs[1][\"pigment\"].mean() - dfs[1][\"nopigment\"].mean())\n",
    ")"
   ]
  },
  {
   "cell_type": "code",
   "execution_count": 12,
   "id": "a90d4b07-36d6-4005-a859-d468e4f257d1",
   "metadata": {},
   "outputs": [
    {
     "data": {
      "image/png": "[encoded data removed]",
      "text/plain": [
       "<Figure size 600x600 with 2 Axes>"
      ]
     },
     "metadata": {},
     "output_type": "display_data"
    }
   ],
   "source": [
    "fig, (ax1, ax2) = plt.subplots(\n",
    "    1, 2, figsize=(2, 2), sharex=True, sharey=True, gridspec_kw={\"wspace\": 0.0}\n",
    ")\n",
    "fig.get_layout_engine().set(w_pad=0)\n",
    "m = np.mean(df.values, axis=0)\n",
    "s = np.std(df.values, axis=0) * 2 / np.sqrt(3)\n",
    "ax1.errorbar([1, 0], m[:2], yerr=s[:2], fmt=\"o\")\n",
    "ax2.errorbar([1, 0], m[2:], yerr=s[2:], fmt=\"o\")\n",
    "ax1.set_xticks([0, 1], [\"Vitiligo\", \"Pigmented\"], rotation=60)\n",
    "ax2.set_xticks([0, 1], [\"Vitiligo\", \"Pigmented\"], rotation=60)\n",
    "ax1.set_xticks([], [], minor=True)\n",
    "# for i, x in enumerate(ax1.xaxis.get_ticklabels()):\n",
    "#     x.set_ha(\"left\" if i == 0 else \"right\")\n",
    "# for i, x in enumerate(ax2.xaxis.get_ticklabels()):\n",
    "#     x.set_ha(\"left\" if i == 0 else \"right\")\n",
    "ax1.set_xlim([-0.2, 1.2])\n",
    "ax1.set_title(\"Uncorrected\", fontsize=\"medium\")\n",
    "ax2.set_title(\"Corrected\", fontsize=\"medium\")\n",
    "ax1.set_ylabel(r\"$\\mathdefault{sO_2^{EST}}$ (%)\")\n",
    "ax1.text(0.5, 0.95, \"p = 0.03\", transform=ax1.transAxes, va=\"top\", ha=\"center\")\n",
    "ax2.text(0.5, 0.95, \"p = 0.18\", transform=ax2.transAxes, va=\"top\", ha=\"center\")\n",
    "fig.savefig(\"so2_vitiligo_carotid_correction.pdf\", dpi=300)\n",
    "plt.show()"
   ]
  },
  {
   "cell_type": "code",
   "execution_count": 13,
   "id": "213fc68e-675c-4422-a4cc-48b752a89ab1",
   "metadata": {},
   "outputs": [
    {
     "ename": "IndexError",
     "evalue": "only integers, slices (`:`), ellipsis (`...`), numpy.newaxis (`None`) and integer or boolean arrays are valid indices",
     "output_type": "error",
     "traceback": [
      "\u001b[31m---------------------------------------------------------------------------\u001b[39m",
      "\u001b[31mIndexError\u001b[39m                                Traceback (most recent call last)",
      "\u001b[36mCell\u001b[39m\u001b[36m \u001b[39m\u001b[32mIn[13]\u001b[39m\u001b[32m, line 1\u001b[39m\n\u001b[32m----> \u001b[39m\u001b[32m1\u001b[39m delta = \u001b[43mm\u001b[49m\u001b[43m[\u001b[49m\u001b[33;43m\"\u001b[39;49m\u001b[33;43mpigment\u001b[39;49m\u001b[33;43m\"\u001b[39;49m\u001b[43m]\u001b[49m - m[\u001b[33m\"\u001b[39m\u001b[33mnopigment\u001b[39m\u001b[33m\"\u001b[39m]\n\u001b[32m      2\u001b[39m uncertainty = np.linalg.norm(s)\n\u001b[32m      4\u001b[39m \u001b[38;5;28mprint\u001b[39m(\u001b[33mf\u001b[39m\u001b[33m\"\u001b[39m\u001b[38;5;132;01m{\u001b[39;00mdelta\u001b[38;5;132;01m:\u001b[39;00m\u001b[33m.2f\u001b[39m\u001b[38;5;132;01m}\u001b[39;00m\u001b[33m±\u001b[39m\u001b[38;5;132;01m{\u001b[39;00muncertainty\u001b[38;5;132;01m:\u001b[39;00m\u001b[33m.2f\u001b[39m\u001b[38;5;132;01m}\u001b[39;00m\u001b[33m\"\u001b[39m)\n",
      "\u001b[31mIndexError\u001b[39m: only integers, slices (`:`), ellipsis (`...`), numpy.newaxis (`None`) and integer or boolean arrays are valid indices"
     ]
    }
   ],
   "source": [
    "delta = m[\"pigment\"] - m[\"nopigment\"]\n",
    "uncertainty = np.linalg.norm(s)\n",
    "\n",
    "print(f\"{delta:.2f}±{uncertainty:.2f}\")"
   ]
  },
  {
   "cell_type": "code",
   "execution_count": 14,
   "id": "4657aa63-38ef-4055-b861-89d3fbc28697",
   "metadata": {},
   "outputs": [
    {
     "ename": "NameError",
     "evalue": "name 'delta' is not defined",
     "output_type": "error",
     "traceback": [
      "\u001b[31m---------------------------------------------------------------------------\u001b[39m",
      "\u001b[31mNameError\u001b[39m                                 Traceback (most recent call last)",
      "\u001b[36mCell\u001b[39m\u001b[36m \u001b[39m\u001b[32mIn[14]\u001b[39m\u001b[32m, line 2\u001b[39m\n\u001b[32m      1\u001b[39m predicted = \u001b[32m3.196\u001b[39m\n\u001b[32m----> \u001b[39m\u001b[32m2\u001b[39m np.abs((predicted - \u001b[43mdelta\u001b[49m) / uncertainty)\n",
      "\u001b[31mNameError\u001b[39m: name 'delta' is not defined"
     ]
    }
   ],
   "source": [
    "predicted = 3.196\n",
    "np.abs((predicted - delta) / uncertainty)"
   ]
  },
  {
   "cell_type": "code",
   "execution_count": null,
   "id": "80404435-9def-421e-a24c-b38f7a14bd86",
   "metadata": {},
   "outputs": [],
   "source": []
  },
  {
   "cell_type": "code",
   "execution_count": null,
   "id": "2d360ef5-3767-45b5-a3e3-d7d2b9aa2d7f",
   "metadata": {},
   "outputs": [],
   "source": []
  }
 ],
 "metadata": {
  "kernelspec": {
   "display_name": "Python 3 (ipykernel)",
   "language": "python",
   "name": "python3"
  },
  "language_info": {
   "codemirror_mode": {
    "name": "ipython",
    "version": 3
   },
   "file_extension": ".py",
   "mimetype": "text/x-python",
   "name": "python",
   "nbconvert_exporter": "python",
   "pygments_lexer": "ipython3",
   "version": "3.12.9"
  }
 },
 "nbformat": 4,
 "nbformat_minor": 5
}
