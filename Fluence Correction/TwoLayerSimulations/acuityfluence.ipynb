{
 "cells": [
  {
   "cell_type": "markdown",
   "id": "6d4f4d60-4486-424d-8115-2126c4052a8e",
   "metadata": {},
   "source": [
    "Note that this code requires a reasonably good graphics card to run. "
   ]
  },
  {
   "cell_type": "code",
   "execution_count": 1,
   "id": "854900bb-c952-4cad-8431-7186ed253b46",
   "metadata": {
    "tags": []
   },
   "outputs": [],
   "source": [
    "import pmcx\n",
    "import numpy as np\n",
    "import matplotlib.pyplot as plt\n",
    "from itertools import product\n",
    "import pandas as pd"
   ]
  },
  {
   "cell_type": "code",
   "execution_count": 2,
   "id": "bec6d4c6-8b63-4e3b-a0b0-2d8f3b6cdb78",
   "metadata": {
    "tags": []
   },
   "outputs": [],
   "source": [
    "DX = 0.06  # mm\n",
    "NX = 1000"
   ]
  },
  {
   "cell_type": "code",
   "execution_count": null,
   "id": "5e1e2f6e-4347-4a36-89ab-3e54671fc5f7",
   "metadata": {
    "tags": []
   },
   "outputs": [],
   "source": [
    "# Scattering properties:\n",
    "def mus_prime(wavelengths):\n",
    "    return 22 * (wavelengths / 500) ** (-0.66) / 10  # /mm\n",
    "\n",
    "\n",
    "g = 0.9\n",
    "\n",
    "\n",
    "def mus_bg(wavelengths):\n",
    "    return mus_prime(wavelengths) / (1 - g)\n",
    "\n",
    "\n",
    "# Blood spectrum and melanin spectrum:\n",
    "specs = np.load(\"HbSpec.npz\")  # in /cm /M\n",
    "\n",
    "\n",
    "def hb(x):\n",
    "    return (\n",
    "        np.interp(x, specs[\"wavelengths\"], specs[\"hb\"]) * 0.1 * 2.303 * 150 / 64500\n",
    "    )  # convert to /mm\n",
    "\n",
    "\n",
    "def hbo2(x):\n",
    "    return (\n",
    "        np.interp(x, specs[\"wavelengths\"], specs[\"hbo2\"]) * 0.1 * 2.303 * 150 / 64500\n",
    "    )  # convert to /mm\n",
    "\n",
    "\n",
    "def mua_blood(wavelengths, oxy=0.9, bvf=0.03):\n",
    "    return bvf * (hb(wavelengths) * (1 - oxy) + hbo2(wavelengths) * oxy) / 1000  # /mm\n",
    "\n",
    "\n",
    "def mua_melanin(x, mvf):\n",
    "    return 519 * (x / 500) ** (-3.5) * mvf / 10  # /mm"
   ]
  },
  {
   "cell_type": "code",
   "execution_count": 4,
   "id": "fc45a44d-a6f6-402e-a5a8-7a50b250b475",
   "metadata": {
    "tags": []
   },
   "outputs": [],
   "source": [
    "def run_acuity_sim(\n",
    "    mua_skin,\n",
    "    mus_skin,\n",
    "    g_skin,\n",
    "    n_skin,\n",
    "    mua_bg,\n",
    "    mus_bg,\n",
    "    g_bg,\n",
    "    n_bg,\n",
    "    mua_blood,\n",
    "    n_ext=1,\n",
    "    nz=100,\n",
    "    nx=100,\n",
    "    dx=0.5,\n",
    "    dt=5e-9,\n",
    "    nphotons=1e6,\n",
    "):\n",
    "    ## ACUITY MODELLING ##\n",
    "    divergence_angle = (\n",
    "        8.66  # full beam divergence angle measured at Full Width at Half Maximum (FWHM)\n",
    "    )\n",
    "    full_width_at_half_maximum = 2.0 * np.tan(\n",
    "        0.5 * np.deg2rad(divergence_angle)\n",
    "    )  # FWHM of beam divergence\n",
    "    # standard deviation of gaussian with FWHM\n",
    "    sigma = full_width_at_half_maximum / (2.0 * np.sqrt(2.0 * np.log(2.0)))\n",
    "\n",
    "    width = 30 / dx\n",
    "\n",
    "    # Angle of incidence of the light:\n",
    "    srcdir = [0.0, np.sin(np.deg2rad(22.4)), np.cos(np.deg2rad(22.4))]\n",
    "    srcpos = [\n",
    "        nx / 2 - width / 2,\n",
    "        nx / 2 - (43.2 + 2.8) / dx * np.tan(np.deg2rad(22.4)),\n",
    "        nx / 2 - 43.2 / dx,\n",
    "    ]  # Center of image is the imaging plane\n",
    "    print(srcpos)\n",
    "    # volume definition:\n",
    "    vol = np.ones([nx, nx, nz], dtype=\"uint8\")\n",
    "    vol[:, :, : nz // 2] = 5  # Dermis\n",
    "    vol[:, :, : nz // 2 - int(1 / dx)] = 3  # Background\n",
    "    vol[:, :, nz // 2] = 2\n",
    "\n",
    "    # Add a blood vessel, which is where we will measure the light fluence\n",
    "    z = np.arange(nz) * dx\n",
    "    x = np.arange(nx) * dx\n",
    "\n",
    "    z0 = z[nz // 2] + 5\n",
    "    x0 = x[nx // 2]\n",
    "    r = 1.5\n",
    "    selection = (z[None, None] - z0) ** 2 + (x[:, None, None] - x0) ** 2 < r**2\n",
    "    vol[np.broadcast_to(selection, vol.shape)] = 4\n",
    "\n",
    "    mua = np.array([1e-10, mua_bg, mua_skin, 1e-10, mua_blood, 0.002 * mua_bg / 0.025])\n",
    "    mus = np.array([1e-10, mus_bg, mus_skin, 1e-10, mus_bg, mus_bg])\n",
    "    g = np.array([1, g_bg, g_skin, 1, g_bg, g_bg])\n",
    "    n = np.array([n_ext, n_bg, n_skin, n_ext, n_bg, n_bg])\n",
    "\n",
    "    cfg = {\n",
    "        \"nphoton\": nphotons,\n",
    "        \"vol\": vol,\n",
    "        \"tstart\": 0,\n",
    "        \"tend\": dt,\n",
    "        \"tstep\": dt,\n",
    "        \"srctype\": \"slit\",\n",
    "        \"srcpos\": srcpos,  # [nx/2-width/2, nx/2,-10],\n",
    "        \"srcdir\": srcdir,\n",
    "        \"srcparam1\": [width, 0.0, 0.0, 0.0],\n",
    "        \"srcparam2\": [sigma, sigma, 0.0, 0.0],\n",
    "        \"prop\": [[a, b, c, d] for a, b, c, d in zip(mua, mus, g, n)],\n",
    "        \"unitinmm\": dx,\n",
    "        \"issrcfrom0\": True,\n",
    "        \"isnormalize\": True,\n",
    "    }\n",
    "    res = pmcx.run(cfg)\n",
    "    res[\"flux\"] *= dt\n",
    "    fluence = np.sum(res[\"flux\"], axis=-1) * dx**2\n",
    "    return res, fluence, fluence * mua[vol], vol, mua[vol]\n",
    "\n",
    "\n",
    "def run_skin_simulation(wavelength, mvf):\n",
    "    mus_bg = mus_prime(wavelength) / (1 - g)\n",
    "    nx = NX\n",
    "    dx = DX\n",
    "    oxy = 0.7\n",
    "    bvf = 0.025\n",
    "\n",
    "    mua_bg = mua_blood(wavelength, oxy=oxy, bvf=bvf)\n",
    "    mua_skin = mua_melanin(wavelength, mvf) + mua_bg\n",
    "\n",
    "    res, fluence, p0, vol, mua = run_acuity_sim(\n",
    "        mua_skin,\n",
    "        mus_bg,\n",
    "        g,\n",
    "        1.37,\n",
    "        mua_bg,\n",
    "        mus_bg,\n",
    "        g,\n",
    "        1.37,\n",
    "        mua_blood(wavelength, 1, 1),\n",
    "        nphotons=1e7,\n",
    "        nx=nx,\n",
    "        dx=dx,\n",
    "        nz=nx,\n",
    "    )\n",
    "    return res, fluence, p0, vol, mua"
   ]
  },
  {
   "cell_type": "code",
   "execution_count": null,
   "id": "f8cab7c9-0838-405a-ab7e-9863e2237888",
   "metadata": {
    "tags": []
   },
   "outputs": [
    {
     "name": "stdout",
     "output_type": "stream",
     "text": [
      "[250.0, 184.0028029103148, -220.0000000000001]\n",
      "nphoton: 1e+07\n",
      "tstart: 0\n",
      "tstep: 5e-09\n",
      "tend: 5e-09\n",
      "issrcfrom0: 1\n",
      "unitinmm: 0.06\n"
     ]
    }
   ],
   "source": [
    "# for mvf, wl\n",
    "res_a, fluence_a, p0, vol, mua = run_skin_simulation(700, 0.4)"
   ]
  },
  {
   "cell_type": "code",
   "execution_count": null,
   "id": "2c629302-67af-4963-afd5-aaf7b3be4189",
   "metadata": {
    "tags": []
   },
   "outputs": [],
   "source": [
    "fig, axes = plt.subplots(1, 3, figsize=(8, 2.5))\n",
    "im = axes[0].imshow(\n",
    "    np.log(np.mean(fluence_a, axis=0).T),\n",
    "    extent=(-DX * NX / 20, DX * NX / 20, -DX * NX / 20, DX * NX / 20),\n",
    ")\n",
    "axes[0].set_title(\"side (z-y)\")\n",
    "axes[1].imshow(\n",
    "    np.log(np.mean(fluence_a[:, :, NX // 2 : NX // 2 + 6], axis=2).T),\n",
    "    extent=(-DX * NX / 20, DX * NX / 20, -DX * NX / 20, DX * NX / 20),\n",
    "    clim=im.get_clim(),\n",
    ")\n",
    "axes[1].set_title(\"top down (x-y)\")\n",
    "axes[2].imshow(\n",
    "    np.log(np.mean(fluence_a, axis=1).T),\n",
    "    extent=(-DX * NX / 20, DX * NX / 20, -DX * NX / 20, DX * NX / 20),\n",
    "    clim=im.get_clim(),\n",
    ")\n",
    "axes[2].set_title(\"side (z-x)\")\n",
    "fig.suptitle(\"Fluence\")\n",
    "plt.colorbar(im, ax=axes, label=\"Log(Light Fluence)\")\n",
    "# plt.tight_layout()\n",
    "plt.show()"
   ]
  },
  {
   "cell_type": "code",
   "execution_count": null,
   "id": "1b79b4c5-01c5-426b-8eea-b4522d28fa96",
   "metadata": {},
   "outputs": [],
   "source": [
    "fig, axes = plt.subplots(1, 3, figsize=(6, 2.5))\n",
    "im = axes[2].imshow(\n",
    "    np.log(np.mean(p0, axis=1).T),\n",
    "    extent=(-DX * NX / 20, DX * NX / 20, -DX * NX / 20, DX * NX / 20),\n",
    ")\n",
    "axes[2].set_title(\"side (z-x)\")\n",
    "axes[0].imshow(\n",
    "    np.log(np.mean(p0, axis=0).T),\n",
    "    extent=(-DX * NX / 20, DX * NX / 20, -DX * NX / 20, DX * NX / 20),\n",
    "    clim=im.get_clim(),\n",
    ")\n",
    "axes[0].set_title(\"side (z-y)\")\n",
    "axes[1].imshow(\n",
    "    np.log(np.mean(p0[:, :, NX // 2 : NX // 2 + 6], axis=2)),\n",
    "    extent=(-DX * NX / 20, DX * NX / 20, -DX * NX / 20, DX * NX / 20),\n",
    "    clim=im.get_clim(),\n",
    ")\n",
    "axes[1].set_title(\"top down (x-y)\")\n",
    "fig.suptitle(\"Absorption\")\n",
    "plt.tight_layout()\n",
    "plt.show()"
   ]
  },
  {
   "cell_type": "code",
   "execution_count": null,
   "id": "1e570ff9-e4c5-4bca-85c7-67a26fbc2fc1",
   "metadata": {
    "tags": []
   },
   "outputs": [],
   "source": [
    "fig, axes = plt.subplots(1, 3, figsize=(8, 2.5))\n",
    "im = axes[2].imshow(\n",
    "    np.mean(vol, axis=1).T,\n",
    "    extent=(-DX * NX / 20, DX * NX / 20, -DX * NX / 20, DX * NX / 20),\n",
    "    interpolation=\"none\",\n",
    ")\n",
    "axes[2].set_title(\"side (z-x)\")\n",
    "axes[0].imshow(\n",
    "    np.mean(vol, axis=0).T,\n",
    "    extent=(-DX * NX / 20, DX * NX / 20, -DX * NX / 20, DX * NX / 20),\n",
    "    clim=im.get_clim(),\n",
    "    interpolation=\"none\",\n",
    ")\n",
    "axes[0].set_title(\"side (z-y)\")\n",
    "axes[1].imshow(\n",
    "    np.mean(vol[:, :, NX // 2 : NX // 2 + 6], axis=2),\n",
    "    extent=(-DX * NX / 20, DX * NX / 20, -DX * NX / 20, DX * NX / 20),\n",
    "    clim=im.get_clim(),\n",
    "    interpolation=\"none\",\n",
    ")\n",
    "axes[1].set_title(\"top down (x-y)\")\n",
    "fig.suptitle(\"Volume\")\n",
    "plt.show()"
   ]
  },
  {
   "cell_type": "code",
   "execution_count": null,
   "id": "c2fa1f97-fdbf-479f-bea1-78fc6c92ee06",
   "metadata": {
    "tags": []
   },
   "outputs": [],
   "source": [
    "fig, axes = plt.subplots(1, 3, figsize=(8, 2.5))\n",
    "im = axes[2].imshow(\n",
    "    np.log(np.mean(mua, axis=1).T),\n",
    "    extent=(-DX * NX / 20, DX * NX / 20, -DX * NX / 20, DX * NX / 20),\n",
    ")\n",
    "axes[2].set_title(\"side (z-x)\")\n",
    "axes[0].imshow(\n",
    "    np.log(np.mean(mua, axis=0).T),\n",
    "    extent=(-DX * NX / 20, DX * NX / 20, -DX * NX / 20, DX * NX / 20),\n",
    "    clim=im.get_clim(),\n",
    ")\n",
    "axes[0].set_title(\"side (z-y)\")\n",
    "axes[1].imshow(\n",
    "    np.log(np.mean(mua[:, :, NX // 2 : NX // 2 + 6], axis=2)),\n",
    "    extent=(-DX * NX / 20, DX * NX / 20, -DX * NX / 20, DX * NX / 20),\n",
    "    clim=im.get_clim(),\n",
    ")\n",
    "axes[1].set_title(\"top down (x-y)\")\n",
    "fig.suptitle(\"mua\")\n",
    "plt.colorbar(im, ax=axes, label=r\"Log($\\mu_a$)\")\n",
    "plt.show()"
   ]
  },
  {
   "cell_type": "markdown",
   "id": "00386c84-83aa-4acc-b53c-b1fe0529780a",
   "metadata": {},
   "source": [
    "# Make a calibration curve for the blood vessel's fluence"
   ]
  },
  {
   "cell_type": "code",
   "execution_count": null,
   "id": "a728ecea-63ba-4191-8732-355c337df850",
   "metadata": {
    "tags": []
   },
   "outputs": [],
   "source": [
    "mvfs = np.logspace(np.log10(0.02), np.log10(0.4), 6)\n",
    "wavelengths = np.linspace(700, 900, 5)\n",
    "# TODO: consider doing the diffuse reflectance simulations too, to get ITA a' la previous paper"
   ]
  },
  {
   "cell_type": "code",
   "execution_count": null,
   "id": "cc67d367-8583-4096-9606-08a6ce54608f",
   "metadata": {
    "tags": []
   },
   "outputs": [],
   "source": [
    "params_results = []\n",
    "for mvf, wl in product(mvfs, wavelengths):\n",
    "    print(mvf, wl)\n",
    "    res_a, fluence_a, p0, vol, mua = run_skin_simulation(wl, mvf)\n",
    "    vessel_fluence = np.mean(fluence_a[:, NX // 2][vol[:, NX // 2] == 4])\n",
    "    result = {}\n",
    "    result[\"MVF\"] = mvf\n",
    "    result[\"WL\"] = wl\n",
    "    result[\"Fluence\"] = vessel_fluence\n",
    "    params_results.append(result)"
   ]
  },
  {
   "cell_type": "code",
   "execution_count": null,
   "id": "eb6b46b6-da72-450f-bf20-e73389520aca",
   "metadata": {
    "tags": []
   },
   "outputs": [],
   "source": [
    "df = pd.DataFrame(params_results)\n",
    "df.to_csv(\"cali_curve.csv\")\n",
    "# Previously, the code in this code was run on a separate PC, hence this strange extra line:\n",
    "df.to_csv(\"../cali_curve.csv\")"
   ]
  }
 ],
 "metadata": {
  "kernelspec": {
   "display_name": "Python 3 (ipykernel)",
   "language": "python",
   "name": "python3"
  },
  "language_info": {
   "codemirror_mode": {
    "name": "ipython",
    "version": 3
   },
   "file_extension": ".py",
   "mimetype": "text/x-python",
   "name": "python",
   "nbconvert_exporter": "python",
   "pygments_lexer": "ipython3",
   "version": "3.12.9"
  }
 },
 "nbformat": 4,
 "nbformat_minor": 5
}
