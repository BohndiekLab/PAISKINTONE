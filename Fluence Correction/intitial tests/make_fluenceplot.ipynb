{
 "cells": [
  {
   "cell_type": "code",
   "execution_count": 1,
   "id": "f8834549-3d36-4f88-973d-023bec6eb8ba",
   "metadata": {},
   "outputs": [],
   "source": [
    "import pandas as pd\n",
    "import matplotlib.pyplot as plt\n",
    "import numpy as np\n",
    "\n",
    "from scipy.interpolate import RegularGridInterpolator"
   ]
  },
  {
   "cell_type": "code",
   "execution_count": null,
   "id": "5f7bfa57-2e16-4703-824d-066a6cdb30be",
   "metadata": {},
   "outputs": [],
   "source": [
    "def mua_melanin(x, mvf):\n",
    "    return 519 * (x / 500) ** (-3.5) * mvf / 10  # /mm"
   ]
  },
  {
   "cell_type": "code",
   "execution_count": 3,
   "id": "5886ce9e-f3b7-4364-a89a-de9370c781fb",
   "metadata": {},
   "outputs": [],
   "source": [
    "df = pd.read_csv(\"cali_curve.csv\", index_col=0)\n",
    "df.set_index([\"MVF\", \"WL\"], inplace=True, drop=False)\n",
    "\n",
    "df[\"Compare Fluence\"] = np.exp(-mua_melanin(df[\"WL\"], df[\"MVF\"]) * 0.06)\n",
    "\n",
    "for n, g in df.groupby(level=0):\n",
    "    # print(df.loc[(0.02, ), \"Fluence\"])\n",
    "    df.loc[(n,), \"Normalised\"] = (\n",
    "        df.loc[(n,), \"Fluence\"].values / df.loc[(0.02,), \"Fluence\"].values\n",
    "    )"
   ]
  },
  {
   "cell_type": "code",
   "execution_count": 4,
   "id": "d4be9dfe-8b00-4646-903a-fb5c5e1c8264",
   "metadata": {},
   "outputs": [],
   "source": [
    "wavelengths = df.index.get_level_values(1)[:5].values\n",
    "mvf = df.index.get_level_values(0)[::5].values"
   ]
  },
  {
   "cell_type": "code",
   "execution_count": 5,
   "id": "ed40b064-ff5b-4d2a-a480-085f74d75df7",
   "metadata": {},
   "outputs": [
    {
     "data": {
      "text/plain": [
       "array(0.)"
      ]
     },
     "execution_count": 5,
     "metadata": {},
     "output_type": "execute_result"
    }
   ],
   "source": [
    "norm_grid = -np.log(df[\"Normalised\"].values.reshape((-1, 5)))\n",
    "\n",
    "correction_factor_spline = RegularGridInterpolator(\n",
    "    (wavelengths, mvf), norm_grid.T, method=\"cubic\"\n",
    ")\n",
    "correction_factor_spline((880, 0.02))"
   ]
  },
  {
   "cell_type": "code",
   "execution_count": 6,
   "id": "f1ac8567-beec-4ea4-9f8e-cd4d1a07a6e6",
   "metadata": {},
   "outputs": [
    {
     "data": {
      "text/plain": [
       "array([0.02      , 0.03641128, 0.06628908, 0.12068353, 0.21971211,\n",
       "       0.4       ])"
      ]
     },
     "execution_count": 6,
     "metadata": {},
     "output_type": "execute_result"
    }
   ],
   "source": [
    "mvf"
   ]
  },
  {
   "cell_type": "markdown",
   "id": "c540284c-f982-4276-902e-39a79dc845a2",
   "metadata": {},
   "source": [
    "# Apply the correction factor to blood spectra and make an sO2 curve"
   ]
  },
  {
   "cell_type": "code",
   "execution_count": 7,
   "id": "b1d79b62-5b5e-43f9-b23d-d67418ec8b80",
   "metadata": {},
   "outputs": [],
   "source": [
    "from patato.unmixing.spectra import SPECTRA_NAMES"
   ]
  },
  {
   "cell_type": "code",
   "execution_count": 8,
   "id": "d7dedf0c-6e1c-493d-bb0b-470cac08f9a9",
   "metadata": {},
   "outputs": [],
   "source": [
    "hb_mua = SPECTRA_NAMES[\"Hb\"].get_spectrum(wavelengths)\n",
    "hbo2_mua = SPECTRA_NAMES[\"HbO2\"].get_spectrum(wavelengths)\n",
    "\n",
    "unmixer = np.linalg.pinv(np.stack([hb_mua, hbo2_mua]))"
   ]
  },
  {
   "cell_type": "code",
   "execution_count": 43,
   "id": "a2698898-105f-433b-a8d8-5187b3ee85d4",
   "metadata": {},
   "outputs": [],
   "source": [
    "so2_0 = 0.847"
   ]
  },
  {
   "cell_type": "code",
   "execution_count": null,
   "id": "f9affb8e-39aa-4e41-b7a3-6371314218f7",
   "metadata": {},
   "outputs": [],
   "source": [
    "ita_eval = [27, 49]  # np.linspace(-45, 64.22, 100)\n",
    "\n",
    "\n",
    "def mvf_calc(ita):\n",
    "    return (19.028 - 0.3692 * ita + 0.001685 * ita**2) / 100\n",
    "\n",
    "\n",
    "p0 = so2_0 * hbo2_mua + (1 - so2_0) * hb_mua"
   ]
  },
  {
   "cell_type": "code",
   "execution_count": 45,
   "id": "81ce92a6-d4e6-463e-831a-54ce6b957101",
   "metadata": {},
   "outputs": [
    {
     "data": {
      "text/plain": [
       "(0.3999999999999999, 0.39054125)"
      ]
     },
     "execution_count": 45,
     "metadata": {},
     "output_type": "execute_result"
    }
   ],
   "source": [
    "np.max(mvf), mvf_calc(-45)"
   ]
  },
  {
   "cell_type": "code",
   "execution_count": 46,
   "id": "64e71280-023c-4cce-afeb-9c3481a71531",
   "metadata": {},
   "outputs": [
    {
     "data": {
      "image/png": "[encoded data removed]",
      "text/plain": [
       "<Figure size 640x480 with 1 Axes>"
      ]
     },
     "metadata": {},
     "output_type": "display_data"
    }
   ],
   "source": [
    "so2 = []\n",
    "for ita in ita_eval:\n",
    "    p1 = p0 * np.exp(-correction_factor_spline((wavelengths, mvf_calc(ita))))\n",
    "    a, b = unmixer.T @ p1\n",
    "    so2.append(b / (a + b))\n",
    "plt.plot(ita_eval, so2)\n",
    "plt.gca().invert_xaxis()\n",
    "plt.show()"
   ]
  },
  {
   "cell_type": "code",
   "execution_count": 47,
   "id": "53c60f0b-191e-4b64-8c3c-19457c704d1d",
   "metadata": {},
   "outputs": [],
   "source": [
    "df = pd.DataFrame({\"ita\": ita_eval, \"so2_model\": so2})"
   ]
  },
  {
   "cell_type": "code",
   "execution_count": 48,
   "id": "fd812554-a432-404d-b274-a75f8fff083a",
   "metadata": {},
   "outputs": [],
   "source": [
    "# df.to_parquet(\"so2_model_fluence_bicep.parquet\")"
   ]
  },
  {
   "cell_type": "code",
   "execution_count": 50,
   "id": "fec902f8-61b0-4a47-b044-6dc2b3aebcaf",
   "metadata": {},
   "outputs": [
    {
     "data": {
      "text/plain": [
       "ita          22.000000\n",
       "so2_model    -0.031955\n",
       "dtype: float64"
      ]
     },
     "execution_count": 50,
     "metadata": {},
     "output_type": "execute_result"
    }
   ],
   "source": [
    "df.iloc[1] - df.iloc[0]"
   ]
  },
  {
   "cell_type": "code",
   "execution_count": null,
   "id": "72ac9b2e-2562-4ea4-aa94-77f934bafc6a",
   "metadata": {},
   "outputs": [],
   "source": []
  },
  {
   "cell_type": "code",
   "execution_count": null,
   "id": "c5eba924-0eb2-419a-8e4e-77a064674b0f",
   "metadata": {},
   "outputs": [],
   "source": []
  }
 ],
 "metadata": {
  "kernelspec": {
   "display_name": "Python 3 (ipykernel)",
   "language": "python",
   "name": "python3"
  },
  "language_info": {
   "codemirror_mode": {
    "name": "ipython",
    "version": 3
   },
   "file_extension": ".py",
   "mimetype": "text/x-python",
   "name": "python",
   "nbconvert_exporter": "python",
   "pygments_lexer": "ipython3",
   "version": "3.12.2"
  }
 },
 "nbformat": 4,
 "nbformat_minor": 5
}
