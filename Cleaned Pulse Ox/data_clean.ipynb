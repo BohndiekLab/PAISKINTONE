{
 "cells": [
  {
   "cell_type": "code",
   "execution_count": null,
   "id": "5cba30db-0819-4d10-897a-4dfcfe30cf51",
   "metadata": {},
   "outputs": [],
   "source": [
    "import pandas as pd\n",
    "import patato as pat\n",
    "from pathlib import Path\n",
    "from tqdm import tqdm\n",
    "import json"
   ]
  },
  {
   "cell_type": "code",
   "execution_count": 3,
   "id": "854d98a9-9ecb-4d73-b2cd-75257ee3f516",
   "metadata": {},
   "outputs": [],
   "source": [
    "def get_region_repetition(name):\n",
    "    if (\n",
    "        \"forearm\" in name.lower() or \"forarm\" in name.lower()\n",
    "    ) and \"-\" not in name.lower():\n",
    "        region = \"Forearm\"\n",
    "    elif \"leg\" in name.lower():\n",
    "        region = \"Leg\"\n",
    "    elif \"bicep\" in name.lower():\n",
    "        region = \"Bicep\"\n",
    "    elif \"neck\" in name.lower():\n",
    "        region = \"Neck\"\n",
    "    else:\n",
    "        region = \"\"\n",
    "    scan_number = name.lower()[-2]\n",
    "    if scan_number in \"123456789\":\n",
    "        scan_number = int(scan_number)\n",
    "    else:\n",
    "        scan_number = 1\n",
    "    return region, scan_number"
   ]
  },
  {
   "cell_type": "code",
   "execution_count": null,
   "id": "827c0d4b-caa8-4583-ad26-950d8d4af2d4",
   "metadata": {},
   "outputs": [
    {
     "name": "stderr",
     "output_type": "stream",
     "text": [
      "100%|██████████| 40/40 [00:09<00:00,  4.32it/s]\n"
     ]
    }
   ],
   "source": [
    "pulse_ox_data = Path(\"../Cleaned Pulse Ox\")\n",
    "\n",
    "settings = json.load(open(\"../data_paths.json\", \"r\"))\n",
    "pa_data = (Path.cwd() / \"../\" / settings[\"main_data_path\"]).resolve()\n",
    "\n",
    "dfs = []\n",
    "for pulseox_file in tqdm(list(pulse_ox_data.glob(\"*.csv\"))):\n",
    "    if \"SKIN13\" in str(pulseox_file):\n",
    "        continue\n",
    "    df = pd.read_csv(pulseox_file, index_col=0)\n",
    "    for i, row in df.iterrows():\n",
    "        scan_id = f\"Scan_{i}.hdf5\"\n",
    "        if not (pa_data / pulseox_file.stem / scan_id).exists():\n",
    "            continue\n",
    "        scan_name = pat.PAData.from_hdf5(\n",
    "            pa_data / pulseox_file.stem / scan_id\n",
    "        ).get_scan_name()\n",
    "        region, number = get_region_repetition(scan_name)\n",
    "        df.loc[i, \"ScanName\"] = scan_name\n",
    "        df.loc[i, \"Site\"] = region\n",
    "        df.loc[i, \"RepNumber\"] = number\n",
    "    df[\"SkinID\"] = pulseox_file.stem\n",
    "    dfs.append(df)"
   ]
  },
  {
   "cell_type": "code",
   "execution_count": 5,
   "id": "701a8ec3-16c2-4b9a-8283-80a4c575afc5",
   "metadata": {},
   "outputs": [],
   "source": [
    "df_full = pd.concat(dfs).reset_index()[\n",
    "    [\"SkinID\", \"ScanName\", \"Site\", \"RepNumber\", \"Pulse Ox\"]\n",
    "]"
   ]
  },
  {
   "cell_type": "code",
   "execution_count": 6,
   "id": "d5feb505-e98c-4c85-b6e0-86de2602f41e",
   "metadata": {},
   "outputs": [],
   "source": [
    "df_ita = pd.read_parquet(\"../01_Prepare Data/ITA_raw.parquet\")\n",
    "regions = {\"Radial Artery\": \"Forearm\", \"Carotid Artery\": \"Neck\"}\n",
    "df_ita[\"Site\"] = df_ita[\"Region\"].apply(lambda x: regions.get(x, x))\n",
    "\n",
    "df_ita = df_ita[[\"SkinID\", \"Site\", \"ITA\"]].reset_index()"
   ]
  },
  {
   "cell_type": "code",
   "execution_count": 7,
   "id": "e48beae1-031f-4ca5-93a8-417380d5db67",
   "metadata": {},
   "outputs": [],
   "source": [
    "df_so2_all = df_full.merge(df_ita[[\"SkinID\", \"Site\", \"ITA\"]], on=[\"SkinID\", \"Site\"])"
   ]
  },
  {
   "cell_type": "code",
   "execution_count": 8,
   "id": "8343da44-ef87-4533-818d-09570870f378",
   "metadata": {},
   "outputs": [],
   "source": [
    "df_so2_all.to_parquet(\"so2_ita_pulseox_all.parquet\")"
   ]
  },
  {
   "cell_type": "code",
   "execution_count": null,
   "id": "cde9f2dc-2d07-46da-a002-2bac39bbaad6",
   "metadata": {},
   "outputs": [],
   "source": []
  }
 ],
 "metadata": {
  "kernelspec": {
   "display_name": "project",
   "language": "python",
   "name": "project"
  },
  "language_info": {
   "codemirror_mode": {
    "name": "ipython",
    "version": 3
   },
   "file_extension": ".py",
   "mimetype": "text/x-python",
   "name": "python",
   "nbconvert_exporter": "python",
   "pygments_lexer": "ipython3",
   "version": "3.12.9"
  }
 },
 "nbformat": 4,
 "nbformat_minor": 5
}
