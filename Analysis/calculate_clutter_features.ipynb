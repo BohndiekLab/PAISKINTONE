{
 "cells": [
  {
   "cell_type": "code",
   "execution_count": 1,
   "id": "f870bd85-5ab4-4d5f-9fc5-95d6b1927d5b",
   "metadata": {},
   "outputs": [],
   "source": [
    "import patato as pat\n",
    "import numpy as np\n",
    "import matplotlib.pyplot as plt\n",
    "import pandas as pd\n",
    "from pathlib import Path\n",
    "from skimage.feature import graycomatrix, graycoprops\n",
    "\n",
    "PIXEL_SIZE = 15"
   ]
  },
  {
   "cell_type": "markdown",
   "id": "a3b6f7f8-89b7-43bc-835d-89e1d9209a97",
   "metadata": {},
   "source": [
    "This script calculates some radiomics features. This wasn't used in the final paper, as it really just showed the same information as simpler metrics. It is provided for completeness."
   ]
  },
  {
   "cell_type": "code",
   "execution_count": 2,
   "id": "c64c556c-c523-4b0b-adb9-f30c795e0ba0",
   "metadata": {},
   "outputs": [],
   "source": [
    "# ROI_NAME = (\"artery_\", \"0\")\n",
    "# SITE_NAME = \"forearm\"\n",
    "\n",
    "ROI_NAME = (\"artery_\", \"0\")\n",
    "SITE_NAME = \"forearm\""
   ]
  },
  {
   "cell_type": "code",
   "execution_count": 3,
   "id": "6943b512-41ac-42ba-b9c8-349ca19f5318",
   "metadata": {},
   "outputs": [],
   "source": [
    "def float_to_uint8(x):\n",
    "    maxv = np.iinfo(np.uint8).max\n",
    "\n",
    "    # Fairly liberal ranges, I haven't seen any PA images outside this range. Adjust as necessary.\n",
    "    maxf = np.max(x)\n",
    "    minf = np.min(x)\n",
    "\n",
    "    y = (maxv * (x - minf) / (maxf - minf)).astype(np.uint8)\n",
    "    return y\n",
    "\n",
    "\n",
    "def get_artery_gcm_metrics(pa, plot=None):\n",
    "    pa.set_default_recon((\"Model Based\", \"0\"))\n",
    "\n",
    "    rec = pa.get_scan_reconstructions()\n",
    "    rec.raw_data = np.array(rec.raw_data)\n",
    "\n",
    "    # Get the x/y indices of the radial artery.\n",
    "    roi = pa.get_rois()[ROI_NAME]\n",
    "    xs = rec.da.coords[\"x\"].values\n",
    "    x, y = np.squeeze(roi.get_polygon().centroid.xy)\n",
    "    xi, yi = [np.argmin(np.abs(xs - a)) for a in [x, y]]\n",
    "    reference_sample = np.s_[\n",
    "        :,\n",
    "        10,\n",
    "        yi - PIXEL_SIZE // 2 : yi + PIXEL_SIZE // 2,\n",
    "        :,\n",
    "        xi - PIXEL_SIZE // 2 : xi + PIXEL_SIZE // 2,\n",
    "    ]\n",
    "    r = []\n",
    "    for wavelength in range(len(pa.get_wavelengths())):\n",
    "        sample_s = np.s_[\n",
    "            :,\n",
    "            wavelength,\n",
    "            yi - PIXEL_SIZE // 2 : yi + PIXEL_SIZE // 2,\n",
    "            :,\n",
    "            xi - PIXEL_SIZE // 2 : xi + PIXEL_SIZE // 2,\n",
    "        ]\n",
    "\n",
    "        if plot is not None and wavelength in plot:\n",
    "            plt.plot(\n",
    "                np.squeeze(float_to_uint8(rec.raw_data[sample_s]))[\n",
    "                    ::-1, PIXEL_SIZE // 2\n",
    "                ]\n",
    "            )\n",
    "            plt.show()\n",
    "\n",
    "        gcm = graycomatrix(\n",
    "            float_to_uint8(np.squeeze(rec.raw_data[sample_s])),\n",
    "            distances=[1],\n",
    "            angles=[0],\n",
    "        )\n",
    "        gcm_measurements = [\n",
    "            \"contrast\",\n",
    "            \"dissimilarity\",\n",
    "            \"homogeneity\",\n",
    "            \"ASM\",\n",
    "            \"energy\",\n",
    "            \"correlation\",\n",
    "        ]\n",
    "        results = dict([(x, graycoprops(gcm, x)[0, 0]) for x in gcm_measurements])\n",
    "        results[\"Wavelength\"] = pa.get_wavelengths()[wavelength]\n",
    "        results[\"Max\"] = np.max(rec.raw_data[sample_s])\n",
    "        results[\"Mean\"] = np.mean(rec.raw_data[sample_s])\n",
    "        results[\"Median\"] = np.median(rec.raw_data[sample_s])\n",
    "        results[\"Std\"] = np.std(rec.raw_data[sample_s])\n",
    "\n",
    "        results[\"Std (sig-sig_1080)\"] = np.std(\n",
    "            rec.raw_data[sample_s] - rec.raw_data[reference_sample]\n",
    "        )\n",
    "        r.append(results)\n",
    "    return pd.DataFrame(r)"
   ]
  },
  {
   "cell_type": "code",
   "execution_count": 4,
   "id": "ec1fd070-cc14-48d6-9a21-717507f25d2d",
   "metadata": {},
   "outputs": [
    {
     "ename": "FileNotFoundError",
     "evalue": "[Errno 2] Unable to synchronously open file (unable to open file: name = '..\\Data\\SKIN11\\Scan_7.hdf5', errno = 2, error message = 'No such file or directory', flags = 0, o_flags = 0)",
     "output_type": "error",
     "traceback": [
      "\u001b[31m---------------------------------------------------------------------------\u001b[39m",
      "\u001b[31mFileNotFoundError\u001b[39m                         Traceback (most recent call last)",
      "\u001b[36mCell\u001b[39m\u001b[36m \u001b[39m\u001b[32mIn[4]\u001b[39m\u001b[32m, line 4\u001b[39m\n\u001b[32m      2\u001b[39m root = Path(\u001b[33m\"\u001b[39m\u001b[33m../Data\u001b[39m\u001b[33m\"\u001b[39m)\n\u001b[32m      3\u001b[39m examplar_images = [\u001b[33m\"\u001b[39m\u001b[33mSKIN11/Scan_7.hdf5\u001b[39m\u001b[33m\"\u001b[39m, \u001b[33m\"\u001b[39m\u001b[33mSKIN29/Scan_29.hdf5\u001b[39m\u001b[33m\"\u001b[39m]\n\u001b[32m----> \u001b[39m\u001b[32m4\u001b[39m pas = [\u001b[43mpat\u001b[49m\u001b[43m.\u001b[49m\u001b[43mPAData\u001b[49m\u001b[43m.\u001b[49m\u001b[43mfrom_hdf5\u001b[49m\u001b[43m(\u001b[49m\u001b[43mroot\u001b[49m\u001b[43m \u001b[49m\u001b[43m/\u001b[49m\u001b[43m \u001b[49m\u001b[43mx\u001b[49m\u001b[43m)\u001b[49m \u001b[38;5;28;01mfor\u001b[39;00m x \u001b[38;5;129;01min\u001b[39;00m examplar_images]\n",
      "\u001b[36mFile \u001b[39m\u001b[32m~\\Local\\CambridgeBits\\PAISKINTONE\\.venv\\Lib\\site-packages\\patato\\io\\msot_data.py:680\u001b[39m, in \u001b[36mPAData.from_hdf5\u001b[39m\u001b[34m(cls, filename, mode)\u001b[39m\n\u001b[32m    677\u001b[39m \u001b[38;5;129m@classmethod\u001b[39m\n\u001b[32m    678\u001b[39m \u001b[38;5;28;01mdef\u001b[39;00m\u001b[38;5;250m \u001b[39m\u001b[34mfrom_hdf5\u001b[39m(\u001b[38;5;28mcls\u001b[39m, filename: Union[\u001b[38;5;28mstr\u001b[39m, h5py.File], mode: \u001b[38;5;28mstr\u001b[39m = \u001b[33m\"\u001b[39m\u001b[33mr\u001b[39m\u001b[33m\"\u001b[39m):\n\u001b[32m    679\u001b[39m     \u001b[38;5;28;01mtry\u001b[39;00m:\n\u001b[32m--> \u001b[39m\u001b[32m680\u001b[39m         file = \u001b[43mh5py\u001b[49m\u001b[43m.\u001b[49m\u001b[43mFile\u001b[49m\u001b[43m(\u001b[49m\u001b[43mfilename\u001b[49m\u001b[43m,\u001b[49m\u001b[43m \u001b[49m\u001b[43mmode\u001b[49m\u001b[43m)\u001b[49m\n\u001b[32m    681\u001b[39m     \u001b[38;5;28;01mexcept\u001b[39;00m \u001b[38;5;167;01mTypeError\u001b[39;00m:\n\u001b[32m    682\u001b[39m         file = filename\n",
      "\u001b[36mFile \u001b[39m\u001b[32m~\\Local\\CambridgeBits\\PAISKINTONE\\.venv\\Lib\\site-packages\\h5py\\_hl\\files.py:564\u001b[39m, in \u001b[36mFile.__init__\u001b[39m\u001b[34m(self, name, mode, driver, libver, userblock_size, swmr, rdcc_nslots, rdcc_nbytes, rdcc_w0, track_order, fs_strategy, fs_persist, fs_threshold, fs_page_size, page_buf_size, min_meta_keep, min_raw_keep, locking, alignment_threshold, alignment_interval, meta_block_size, **kwds)\u001b[39m\n\u001b[32m    555\u001b[39m     fapl = make_fapl(driver, libver, rdcc_nslots, rdcc_nbytes, rdcc_w0,\n\u001b[32m    556\u001b[39m                      locking, page_buf_size, min_meta_keep, min_raw_keep,\n\u001b[32m    557\u001b[39m                      alignment_threshold=alignment_threshold,\n\u001b[32m    558\u001b[39m                      alignment_interval=alignment_interval,\n\u001b[32m    559\u001b[39m                      meta_block_size=meta_block_size,\n\u001b[32m    560\u001b[39m                      **kwds)\n\u001b[32m    561\u001b[39m     fcpl = make_fcpl(track_order=track_order, fs_strategy=fs_strategy,\n\u001b[32m    562\u001b[39m                      fs_persist=fs_persist, fs_threshold=fs_threshold,\n\u001b[32m    563\u001b[39m                      fs_page_size=fs_page_size)\n\u001b[32m--> \u001b[39m\u001b[32m564\u001b[39m     fid = \u001b[43mmake_fid\u001b[49m\u001b[43m(\u001b[49m\u001b[43mname\u001b[49m\u001b[43m,\u001b[49m\u001b[43m \u001b[49m\u001b[43mmode\u001b[49m\u001b[43m,\u001b[49m\u001b[43m \u001b[49m\u001b[43muserblock_size\u001b[49m\u001b[43m,\u001b[49m\u001b[43m \u001b[49m\u001b[43mfapl\u001b[49m\u001b[43m,\u001b[49m\u001b[43m \u001b[49m\u001b[43mfcpl\u001b[49m\u001b[43m,\u001b[49m\u001b[43m \u001b[49m\u001b[43mswmr\u001b[49m\u001b[43m=\u001b[49m\u001b[43mswmr\u001b[49m\u001b[43m)\u001b[49m\n\u001b[32m    566\u001b[39m \u001b[38;5;28;01mif\u001b[39;00m \u001b[38;5;28misinstance\u001b[39m(libver, \u001b[38;5;28mtuple\u001b[39m):\n\u001b[32m    567\u001b[39m     \u001b[38;5;28mself\u001b[39m._libver = libver\n",
      "\u001b[36mFile \u001b[39m\u001b[32m~\\Local\\CambridgeBits\\PAISKINTONE\\.venv\\Lib\\site-packages\\h5py\\_hl\\files.py:238\u001b[39m, in \u001b[36mmake_fid\u001b[39m\u001b[34m(name, mode, userblock_size, fapl, fcpl, swmr)\u001b[39m\n\u001b[32m    236\u001b[39m     \u001b[38;5;28;01mif\u001b[39;00m swmr \u001b[38;5;129;01mand\u001b[39;00m swmr_support:\n\u001b[32m    237\u001b[39m         flags |= h5f.ACC_SWMR_READ\n\u001b[32m--> \u001b[39m\u001b[32m238\u001b[39m     fid = \u001b[43mh5f\u001b[49m\u001b[43m.\u001b[49m\u001b[43mopen\u001b[49m\u001b[43m(\u001b[49m\u001b[43mname\u001b[49m\u001b[43m,\u001b[49m\u001b[43m \u001b[49m\u001b[43mflags\u001b[49m\u001b[43m,\u001b[49m\u001b[43m \u001b[49m\u001b[43mfapl\u001b[49m\u001b[43m=\u001b[49m\u001b[43mfapl\u001b[49m\u001b[43m)\u001b[49m\n\u001b[32m    239\u001b[39m \u001b[38;5;28;01melif\u001b[39;00m mode == \u001b[33m'\u001b[39m\u001b[33mr+\u001b[39m\u001b[33m'\u001b[39m:\n\u001b[32m    240\u001b[39m     fid = h5f.open(name, h5f.ACC_RDWR, fapl=fapl)\n",
      "\u001b[36mFile \u001b[39m\u001b[32mh5py\\\\_objects.pyx:54\u001b[39m, in \u001b[36mh5py._objects.with_phil.wrapper\u001b[39m\u001b[34m()\u001b[39m\n",
      "\u001b[36mFile \u001b[39m\u001b[32mh5py\\\\_objects.pyx:55\u001b[39m, in \u001b[36mh5py._objects.with_phil.wrapper\u001b[39m\u001b[34m()\u001b[39m\n",
      "\u001b[36mFile \u001b[39m\u001b[32mh5py\\\\h5f.pyx:102\u001b[39m, in \u001b[36mh5py.h5f.open\u001b[39m\u001b[34m()\u001b[39m\n",
      "\u001b[31mFileNotFoundError\u001b[39m: [Errno 2] Unable to synchronously open file (unable to open file: name = '..\\Data\\SKIN11\\Scan_7.hdf5', errno = 2, error message = 'No such file or directory', flags = 0, o_flags = 0)"
     ]
    }
   ],
   "source": [
    "if SITE_NAME == \"forearm\":\n",
    "    root = Path(\"../Data\")\n",
    "    examplar_images = [\"SKIN11/Scan_7.hdf5\", \"SKIN29/Scan_29.hdf5\"]\n",
    "    pas = [pat.PAData.from_hdf5(root / x) for x in examplar_images]"
   ]
  },
  {
   "cell_type": "code",
   "execution_count": null,
   "id": "56ebdeb1-4647-4731-9d42-53b9215485f2",
   "metadata": {},
   "outputs": [],
   "source": [
    "if SITE_NAME == \"forearm\":\n",
    "    df1 = get_artery_gcm_metrics(pas[0], plot=[3, 10])\n",
    "    df2 = get_artery_gcm_metrics(pas[1], plot=[3, 10])"
   ]
  },
  {
   "cell_type": "code",
   "execution_count": null,
   "id": "84817bd8-f003-4cf6-9cb2-602865fcadea",
   "metadata": {},
   "outputs": [],
   "source": [
    "if SITE_NAME == \"forearm\":\n",
    "    plt.plot(df1[\"Wavelength\"], df1[\"dissimilarity\"], c=\"C0\")\n",
    "    plt.plot(df2[\"Wavelength\"], df2[\"dissimilarity\"], c=\"C1\")\n",
    "# plt.twinx()\n",
    "# plt.plot(df1[\"Wavelength\"], df1[\"dissimilarity\"].apply(lambda x: x[0,1]), c=\"C0\", linestyle=\"--\")\n",
    "# plt.plot(df2[\"Wavelength\"], df2[\"dissimilarity\"].apply(lambda x: x[0,1]), c=\"C1\", linestyle=\"--\")"
   ]
  },
  {
   "cell_type": "code",
   "execution_count": null,
   "id": "94753182-4175-43bb-a9ff-d37a3789fe0c",
   "metadata": {},
   "outputs": [],
   "source": [
    "root = Path(\"../Data\")\n",
    "pas = []"
   ]
  },
  {
   "cell_type": "code",
   "execution_count": null,
   "id": "f6298725-6c4c-4a33-9e8f-a98c4798fbd3",
   "metadata": {},
   "outputs": [],
   "source": [
    "results = []\n",
    "for f in root.glob(\"**/*.hdf5\"):\n",
    "    pa = pat.PAData.from_hdf5(f)\n",
    "    pas.append(pa)\n",
    "    if (\n",
    "        f\"{SITE_NAME}1\" not in pa.get_scan_name()\n",
    "        or ROI_NAME not in pa.get_rois()\n",
    "        or \"parallel\" in pa.get_scan_name()\n",
    "    ):\n",
    "        continue\n",
    "    skin_id = f.parent.stem\n",
    "    r = get_artery_gcm_metrics(pa)\n",
    "    r[\"SkinID\"] = skin_id\n",
    "    r[\"ScanName\"] = pa.get_scan_name()\n",
    "    results.append(r)"
   ]
  },
  {
   "cell_type": "code",
   "execution_count": null,
   "id": "53758099-b517-4160-b341-bd4c5e88e249",
   "metadata": {},
   "outputs": [],
   "source": [
    "df = (\n",
    "    pd.concat(results)\n",
    "    .sort_values(by=[\"SkinID\", \"ScanName\", \"Wavelength\"])\n",
    "    .reset_index(drop=True)\n",
    ")\n",
    "name = (\n",
    "    \"radial_artery\"\n",
    "    if SITE_NAME == \"forearm\" and ROI_NAME[0] == \"artery_\"\n",
    "    else SITE_NAME + \"_\" + ROI_NAME[0].split(\"_\")[0]\n",
    ")\n",
    "df.to_parquet(f\"intermediate data/radiomics_texture_analysis_{name}.parquet\")"
   ]
  },
  {
   "cell_type": "code",
   "execution_count": null,
   "id": "aa9081be-533e-4a7d-b490-0d00d5139a4e",
   "metadata": {},
   "outputs": [],
   "source": []
  },
  {
   "cell_type": "code",
   "execution_count": null,
   "id": "50c7a3dd-d338-4be6-b956-4e5fe857d20a",
   "metadata": {},
   "outputs": [],
   "source": []
  }
 ],
 "metadata": {
  "kernelspec": {
   "display_name": "Python 3 (ipykernel)",
   "language": "python",
   "name": "python3"
  },
  "language_info": {
   "codemirror_mode": {
    "name": "ipython",
    "version": 3
   },
   "file_extension": ".py",
   "mimetype": "text/x-python",
   "name": "python",
   "nbconvert_exporter": "python",
   "pygments_lexer": "ipython3",
   "version": "3.12.9"
  }
 },
 "nbformat": 4,
 "nbformat_minor": 5
}
