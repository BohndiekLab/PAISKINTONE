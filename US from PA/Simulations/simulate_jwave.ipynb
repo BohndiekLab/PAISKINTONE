{
 "cells": [
  {
   "cell_type": "markdown",
   "id": "312b957a-efc7-4a98-98ec-ab1c39b76afd",
   "metadata": {},
   "source": [
    "This code requires a decent GPU to work in a reasonable length of time. Install the appropriate JAX version to support CUDA etc."
   ]
  },
  {
   "cell_type": "code",
   "execution_count": 1,
   "id": "a92d478d-de47-497f-b5df-f608fadbee03",
   "metadata": {},
   "outputs": [
    {
     "name": "stdout",
     "output_type": "stream",
     "text": [
      "[CpuDevice(id=0)]\n"
     ]
    }
   ],
   "source": [
    "import jax\n",
    "print(jax.devices())"
   ]
  },
  {
   "cell_type": "code",
   "execution_count": 1,
   "id": "72703306-25cd-44c8-ad65-67ac2a1bd5ea",
   "metadata": {},
   "outputs": [],
   "source": [
    "import numpy as np\n",
    "\n",
    "from jax import jit\n",
    "from jaxdf import FourierSeries\n",
    "import jax.numpy as jnp\n",
    "\n",
    "from jwave.acoustics import simulate_wave_propagation\n",
    "from jwave.geometry import Domain, TimeAxis, BLISensors, Medium\n",
    "from jwave.acoustics.time_varying import TimeWavePropagationSettings\n",
    "from jwave.signal_processing import smooth as smooth_jwave\n",
    "\n",
    "from patato.recon.fourier_transform_rec import FFTReconstruction\n",
    "from skimage import filters\n",
    "\n",
    "from tqdm import tqdm\n",
    "\n",
    "\n",
    "def smooth(image):\n",
    "    # return filters.gaussian(image, sigma=1)\n",
    "    # return image\n",
    "    return smooth_jwave(image)\n",
    "\n",
    "\n",
    "import matplotlib.pyplot as plt\n",
    "\n",
    "from scipy.signal import butter, filtfilt, hilbert\n",
    "from scipy.interpolate import RegularGridInterpolator\n",
    "\n",
    "from paiskintonetools import setup_matplotlib\n",
    "\n",
    "setup_matplotlib(dpi=100)\n",
    "\n",
    "from pa_to_us import reconstruct_plane_wave_us, ft_to_image"
   ]
  },
  {
   "cell_type": "markdown",
   "id": "a1c30255-4213-4408-b89c-13a19d129302",
   "metadata": {},
   "source": [
    "First, let's define the simulation parameters. "
   ]
  },
  {
   "cell_type": "code",
   "execution_count": 2,
   "id": "f5b0c8b0-1c30-48de-b1b3-4ada9bc56149",
   "metadata": {},
   "outputs": [],
   "source": [
    "## Define the simulation grid\n",
    "Nx = 512  # width and height of the grid\n",
    "dx = 0.2e-3  # m\n",
    "domain = Domain((Nx, Nx), (dx, dx))\n",
    "\n",
    "## Define the background speed of sound and density\n",
    "c0 = 1540  # m/s\n",
    "rho0 = 1000  # kg/m3\n",
    "\n",
    "## Define the simulation time samples\n",
    "dt = 1 / 4e7\n",
    "t_end = 1e-4\n",
    "time_axis = TimeAxis(dt=dt, t_end=t_end)\n",
    "\n",
    "# This is the relative intensity of the blood vessel. \n",
    "# To reproduce the results in the paper, vary this from 0.0001 to 10.\n",
    "# It will save the corresponding results in intermediate_results. These\n",
    "# results are then called in figure-making scripts.\n",
    "blood_vessel = 0.001"
   ]
  },
  {
   "cell_type": "code",
   "execution_count": 3,
   "id": "32cbce45-9146-48f3-b188-0dabd381e5bd",
   "metadata": {},
   "outputs": [],
   "source": [
    "def pixels_to_positions(x=None, y=None):\n",
    "    if x is None and y is None:\n",
    "        raise ValueError(\"Either x or y must be defined.\")\n",
    "    elif x is None:\n",
    "        return (y - Nx / 2) * dx\n",
    "    elif y is None:\n",
    "        return (x - Nx / 2) * dx\n",
    "    else:\n",
    "        return ((x - Nx / 2) * dx, (y - Nx / 2) * dx)\n",
    "\n",
    "\n",
    "def positions_to_pixels(x=None, y=None):\n",
    "    if x is None and y is None:\n",
    "        raise ValueError(\"Either x or y must be defined.\")\n",
    "    elif x is None:\n",
    "        return y / dx + Nx / 2\n",
    "    elif y is None:\n",
    "        return x / dx + Nx / 2\n",
    "    else:\n",
    "        return (x / dx + Nx / 2, y / dx + Nx / 2)\n",
    "\n",
    "\n",
    "def get_scatterers(n=3, radius=0.0015, y0=0):\n",
    "    grid = np.zeros(domain.N, dtype=bool)\n",
    "    xs = pixels_to_positions(np.arange(domain.N[0]))[None, :]\n",
    "    ys = pixels_to_positions(np.arange(domain.N[0]))[:, None]\n",
    "    for i in range(n):\n",
    "        for j in range(n):\n",
    "            mask = (xs - radius * 5 * (i - n // 2)) ** 2 + (\n",
    "                ys + radius + radius * 5 * j\n",
    "            ) ** 2 < radius**2\n",
    "            grid[mask] = True\n",
    "    # mask = ((ys > -0.01) & (ys<0))[:, 0]\n",
    "    # grid[mask, :] = True\n",
    "    return grid\n",
    "\n",
    "\n",
    "def get_p0(delta_y, y0=0, width=0.05):\n",
    "    grid = np.zeros(domain.N)\n",
    "    Ny = int(positions_to_pixels(y=y0 + delta_y))\n",
    "    Nx = positions_to_pixels(x=np.array([-width / 2, width / 2])).astype(int)\n",
    "    grid[Ny, Nx[0] : Nx[1]] = 1\n",
    "    # Vessels:\n",
    "    if blood_vessel is not None:\n",
    "        xs = pixels_to_positions(np.arange(domain.N[0]))\n",
    "        grid[\n",
    "            xs[:, None] ** 2 + (xs[None, :] - 0.0025) ** 2 < 0.0025**2\n",
    "        ] = blood_vessel\n",
    "    return grid\n",
    "\n",
    "\n",
    "def get_linear_sensors(y0=0, width=0.04, Ndet=256):\n",
    "    x = np.linspace(-width / 2, width / 2, Ndet)\n",
    "    y = np.zeros_like(x) + y0\n",
    "    return x, y, \"LINEAR\"\n",
    "\n",
    "\n",
    "def get_arc_shaped_sensors(y0=0, radius=0.04, Ndet=256, angle=120):\n",
    "    theta = np.linspace(np.deg2rad(-angle / 2), np.deg2rad(angle / 2), Ndet)\n",
    "    x = radius * np.sin(theta)\n",
    "    y = radius * np.cos(theta)\n",
    "    return x, y, \"ARC\"\n",
    "\n",
    "\n",
    "def run_simulations(p0, detectors: list[np.ndarray], density=rho0, sound_speed=c0):\n",
    "    \"\"\"\n",
    "    Note: sensors is a list of np.ndarray\n",
    "    \"\"\"\n",
    "    if np.isscalar(density):\n",
    "        density = np.ones(domain.N) * density\n",
    "    density = FourierSeries(jnp.expand_dims(density, -1), domain)\n",
    "    if np.isscalar(sound_speed):\n",
    "        sound_speed = np.ones(domain.N) * sound_speed\n",
    "    sound_speed = FourierSeries(jnp.expand_dims(sound_speed, -1), domain)\n",
    "\n",
    "    p0 = FourierSeries(jnp.expand_dims(p0, -1), domain)\n",
    "\n",
    "    medium = Medium(\n",
    "        domain=domain, sound_speed=sound_speed, density=density, pml_size=20\n",
    "    )\n",
    "\n",
    "    bli_sensors = [\n",
    "        BLISensors(positions=positions_to_pixels(y, x), n=domain.N)\n",
    "        for x, y in detectors\n",
    "    ]\n",
    "    sensors = lambda *args: [bli(*args) for bli in bli_sensors]\n",
    "\n",
    "    @jit\n",
    "    def compiled_simulator():\n",
    "        return simulate_wave_propagation(\n",
    "            medium,\n",
    "            time_axis,\n",
    "            p0=p0,\n",
    "            sensors=sensors,\n",
    "            settings=TimeWavePropagationSettings(smooth_initial=True),\n",
    "        )\n",
    "\n",
    "    pressure = compiled_simulator()\n",
    "    return [np.asarray(p)[:, :, 0] for p in pressure]"
   ]
  },
  {
   "cell_type": "markdown",
   "id": "4ea323b6-61d4-44ab-80c2-7960d154c26d",
   "metadata": {},
   "source": [
    "Define the sensors, inhomogeneity parameters, and initial pressure."
   ]
  },
  {
   "cell_type": "code",
   "execution_count": 4,
   "id": "35ba8be2-960f-4fec-a306-864ef08dbfa8",
   "metadata": {},
   "outputs": [],
   "source": [
    "extent = pixels_to_positions(np.array([-0.5, Nx - 0.5] * 2))\n",
    "\n",
    "y_skin = 0.005\n",
    "y_lineararray = 0.02\n",
    "width_skin = 0.05\n",
    "width_detectors = 0.04 * np.sqrt(3)  # 4\n",
    "radius_detectors = 0.04\n",
    "\n",
    "p0_grid = get_p0(y_skin, width=width_skin)\n",
    "xs = pixels_to_positions(np.arange(Nx))\n",
    "\n",
    "xsens_arc, ysens_arc, sensor_type_arc = get_arc_shaped_sensors(radius=radius_detectors)\n",
    "xsens, ysens, sensor_type = get_linear_sensors(y_lineararray, width=width_detectors)\n",
    "\n",
    "# Define the inhomogeneous simulation.\n",
    "density = np.ones_like(p0_grid) * rho0\n",
    "sound_speed = np.ones_like(p0_grid) * c0\n",
    "noise = np.random.normal(size=domain.N, loc=1, scale=0.008)\n",
    "density *= noise\n",
    "sound_speed *= noise\n",
    "\n",
    "mask = get_scatterers()\n",
    "n_pixels = np.sum(mask)\n",
    "random_weighting = np.random.normal(\n",
    "    size=domain.N, loc=25 + c0, scale=75\n",
    ")  # to mimic scattering.\n",
    "density[mask] = random_weighting[mask] / 1.5\n",
    "sound_speed[mask] = random_weighting[mask]"
   ]
  },
  {
   "cell_type": "code",
   "execution_count": 5,
   "id": "8fdd9191-1660-42ff-b2e7-57a13009566e",
   "metadata": {},
   "outputs": [],
   "source": [
    "c = p0_grid.shape[0] // 2\n",
    "p0_save = smooth_jwave(p0_grid[c - 100 : c + 100, c - 100 : c + 100])\n",
    "density_save = smooth_jwave(density[c - 100 : c + 100, c - 100 : c + 100])\n",
    "if blood_vessel is None:\n",
    "    np.save(\"intermediate_results/p0.npy\", p0_save)\n",
    "    np.save(\"intermediate_results/density.npy\", density_save)\n",
    "else:\n",
    "    bv_amount = np.log10(blood_vessel)\n",
    "    np.save(f\"intermediate_results/p0_bv1E{bv_amount:.0f}.npy\", p0_save)"
   ]
  },
  {
   "cell_type": "code",
   "execution_count": 6,
   "id": "08b2f475-1983-4413-a8e5-c0f7ea9483ef",
   "metadata": {},
   "outputs": [
    {
     "data": {
      "image/png": "[encoded data removed]",
      "text/plain": [
       "<Figure size 300x300 with 1 Axes>"
      ]
     },
     "metadata": {},
     "output_type": "display_data"
    }
   ],
   "source": [
    "fig, ax = plt.subplots(figsize=(3, 3))\n",
    "ax.imshow(p0_grid, origin=\"lower\", extent=extent, cmap=\"viridis\")\n",
    "\n",
    "sound_speed_vis = sound_speed.copy()\n",
    "sound_speed_vis[~mask] = np.nan\n",
    "ax.imshow(sound_speed_vis, origin=\"lower\", extent=extent, cmap=\"cividis\")\n",
    "ax.annotate(\n",
    "    \"$p_0$\",\n",
    "    (-width_skin / 2, y_skin),\n",
    "    (0, 5),\n",
    "    xycoords=\"data\",\n",
    "    textcoords=\"offset points\",\n",
    ")\n",
    "\n",
    "ax.scatter(xsens, ysens, marker=\"o\", c=\"k\", s=1)\n",
    "text_i = ysens.shape[0] // 2\n",
    "ax.annotate(\n",
    "    \"Detectors\",\n",
    "    (xsens[text_i], ysens[text_i]),\n",
    "    (0, 5),\n",
    "    xycoords=\"data\",\n",
    "    textcoords=\"offset points\",\n",
    "    ha=\"center\",\n",
    ")  # if text_i != 0 else \"left\")\n",
    "\n",
    "ax.scatter(xsens_arc, ysens_arc, marker=\"o\", c=\"k\", s=1)\n",
    "text_i = ysens_arc.shape[0] // 2\n",
    "ax.annotate(\n",
    "    \"Detectors\",\n",
    "    (xsens_arc[text_i], ysens_arc[text_i]),\n",
    "    (0, 5),\n",
    "    xycoords=\"data\",\n",
    "    textcoords=\"offset points\",\n",
    "    ha=\"center\",\n",
    ")  # if text_i != 0 else \"left\")\n",
    "\n",
    "plt.show()"
   ]
  },
  {
   "cell_type": "code",
   "execution_count": 7,
   "id": "c40841e3-4517-46f6-9f0a-9cb2975f155c",
   "metadata": {},
   "outputs": [
    {
     "data": {
      "text/plain": [
       "<matplotlib.colorbar.Colorbar at 0x20bf84963f0>"
      ]
     },
     "execution_count": 7,
     "metadata": {},
     "output_type": "execute_result"
    },
    {
     "data": {
      "image/png": "[encoded data removed]",
      "text/plain": [
       "<Figure size 640x480 with 2 Axes>"
      ]
     },
     "metadata": {},
     "output_type": "display_data"
    }
   ],
   "source": [
    "plt.imshow(density, origin=\"lower\", extent=extent)\n",
    "plt.ylim((-0.02, 0.01))\n",
    "plt.xlim((-0.015, 0.015))\n",
    "plt.colorbar()"
   ]
  },
  {
   "cell_type": "markdown",
   "id": "778bd410-6f9a-4b4d-9cb1-f9464e208f2d",
   "metadata": {},
   "source": [
    "Calculate the time series data."
   ]
  },
  {
   "cell_type": "code",
   "execution_count": null,
   "id": "17b2c100-efb4-4378-9e25-8f7f2b6a41db",
   "metadata": {},
   "outputs": [],
   "source": [
    "if blood_vessel is None:\n",
    "    pressure_homog = run_simulations(p0_grid, [(xsens, ysens), (xsens_arc, ysens_arc)])\n",
    "pressure_inhomog = run_simulations(\n",
    "    p0_grid,\n",
    "    [(xsens, ysens), (xsens_arc, ysens_arc)],\n",
    "    density=density,\n",
    "    sound_speed=sound_speed,\n",
    ")"
   ]
  },
  {
   "cell_type": "code",
   "execution_count": null,
   "id": "1a17cf0a-ff47-455d-a2fa-9ef4b20c2bf0",
   "metadata": {},
   "outputs": [],
   "source": [
    "if blood_vessel is None:\n",
    "    np.save(\"intermediate_results/linear_homog.npy\", pressure_homog[0])\n",
    "    np.save(\"intermediate_results/arc_homog.npy\", pressure_homog[1])\n",
    "    np.save(\"intermediate_results/linear_inhomog.npy\", pressure_inhomog[0])\n",
    "    np.save(\"intermediate_results/arc_inhomog.npy\", pressure_inhomog[1])\n",
    "else:\n",
    "    bv_amount = np.log10(blood_vessel)\n",
    "    np.save(\n",
    "        f\"intermediate_results/linear_inhomog_bv1E{bv_amount:.0f}.npy\",\n",
    "        pressure_inhomog[0],\n",
    "    )\n",
    "    np.save(\n",
    "        f\"intermediate_results/arc_inhomog_bv1E{bv_amount:.0f}.npy\", pressure_inhomog[1]\n",
    "    )"
   ]
  },
  {
   "cell_type": "code",
   "execution_count": null,
   "id": "3dd8a82c-b983-4fea-8de0-c507eca8443a",
   "metadata": {},
   "outputs": [],
   "source": [
    "np.save(\"arc_detector.npy\", np.stack([xsens_arc, ysens_arc, np.zeros_like(xsens_arc)]))"
   ]
  },
  {
   "cell_type": "markdown",
   "id": "29eea973-b7b0-4e0c-b7ac-e0500d242b99",
   "metadata": {},
   "source": [
    "Now let's try a RUCT simulation? "
   ]
  },
  {
   "cell_type": "code",
   "execution_count": null,
   "id": "d5f753e5-95ed-45ae-b8a8-5916455c7f81",
   "metadata": {},
   "outputs": [],
   "source": [
    "## Define the simulation time samples\n",
    "dt = 1 / 4e7\n",
    "t_end = 2e-4\n",
    "time_axis = TimeAxis(dt=dt, t_end=t_end)"
   ]
  },
  {
   "cell_type": "code",
   "execution_count": null,
   "id": "9f69caeb-ac2b-478a-984d-4df59c89f05b",
   "metadata": {},
   "outputs": [],
   "source": [
    "from jwave.signal_processing import gaussian_window"
   ]
  },
  {
   "cell_type": "code",
   "execution_count": null,
   "id": "0b71d613-aacd-4126-ba0a-05a7d8d4f799",
   "metadata": {},
   "outputs": [],
   "source": [
    "t = np.arange(0, time_axis.t_end, time_axis.dt)\n",
    "s = np.sin(2 * np.pi * 4e6 * t)\n",
    "s1 = gaussian_window(s, t, 2e-6, 4e-7)\n",
    "fig, ax = plt.subplots(figsize=(4, 4))\n",
    "ax.plot(t, s1)\n",
    "ax.axvline(2e-6, c=\"C1\")\n",
    "ax.set_xlim([0, 5e-6])\n",
    "ax.set_xlabel(\"Time (s)\")\n",
    "ax.set_ylabel(\"Signal\")\n",
    "ax.set_title(\"Transmitted ultrasound pulse\")\n",
    "plt.show()"
   ]
  },
  {
   "cell_type": "code",
   "execution_count": null,
   "id": "280c8475-46a0-4386-80d6-9a539938c5b1",
   "metadata": {},
   "outputs": [],
   "source": [
    "ft_f = np.fft.fftshift(np.fft.fftfreq(s.shape[0], time_axis.dt))\n",
    "ft_s = np.fft.fftshift(np.fft.fft(s))\n",
    "\n",
    "plt.plot(ft_f, np.log(np.abs(ft_s)))\n",
    "plt.axvline(4e6, c=\"C1\")\n",
    "plt.axvline(-4e6, c=\"C1\")\n",
    "plt.axvline(3e6, c=\"C1\")\n",
    "plt.axvline(5e6, c=\"C1\")"
   ]
  },
  {
   "cell_type": "code",
   "execution_count": null,
   "id": "d5442694-c675-4a5e-9ea1-35be8a2e9469",
   "metadata": {},
   "outputs": [],
   "source": [
    "# Extend the BLISensors class to allow slicing and to be a source.\n",
    "# b = BLISensors()\n",
    "\n",
    "\n",
    "class BLISensorSource(BLISensors):\n",
    "    def __init__(self, bx, by, bz, positions, n, signals):\n",
    "        self.bx = bx\n",
    "        self.by = by\n",
    "        self.bz = bz\n",
    "        self.n = n\n",
    "        self.positions = positions\n",
    "        self.signals = signals\n",
    "\n",
    "    def tree_flatten(self):\n",
    "        children = self.bx, self.by, self.bz, self.positions, self.signals\n",
    "        aux = (self.n,)\n",
    "        return children, aux\n",
    "\n",
    "    @classmethod\n",
    "    def tree_unflatten(cls, aux, children):\n",
    "        return cls(*children[:-1], *aux, children[-1])\n",
    "\n",
    "    @classmethod\n",
    "    def from_positions_n(cls, positions, n, signals):\n",
    "        blis = BLISensors(positions, n)\n",
    "        return cls(blis.bx, blis.by, blis.bz, blis.positions, blis.n, signals)\n",
    "\n",
    "    def on_grid(self, idx):\n",
    "        # Time index idx - convert to integer.\n",
    "        idx = idx.astype(jnp.int32)\n",
    "\n",
    "        sig = self.signals[:, idx]\n",
    "        if len(self.positions) == 1:\n",
    "            return jnp.sum(sig[:, None, None] * self.bx, axis=0)\n",
    "        elif len(self.positions) == 2:\n",
    "            return jnp.sum(\n",
    "                sig[:, None, None, None] * self.bx * self.by[:, None], axis=0\n",
    "            )\n",
    "        elif len(self.positions) == 3:\n",
    "            return jnp.sum(\n",
    "                sig[:, None, None, None] * self.bx * self.by[:, None], axis=0\n",
    "            )\n",
    "        else:\n",
    "            raise ValueError(\"Sensor/source positions must be 1, 2, or 3 dimensional.\")\n",
    "\n",
    "\n",
    "source = np.zeros((256, int(time_axis.Nt)))\n",
    "source[:, 0] = 1"
   ]
  },
  {
   "cell_type": "code",
   "execution_count": null,
   "id": "e078b009-451d-4336-ac36-d2990eff2d11",
   "metadata": {},
   "outputs": [],
   "source": [
    "time_axis.Nt"
   ]
  },
  {
   "cell_type": "code",
   "execution_count": null,
   "id": "26285fd1-b98f-4499-9155-b867cac8b192",
   "metadata": {},
   "outputs": [],
   "source": [
    "# b2 = BLISensors(d)"
   ]
  },
  {
   "cell_type": "code",
   "execution_count": null,
   "id": "f299d907-47af-4c9a-8a29-8f29df7e8f07",
   "metadata": {},
   "outputs": [],
   "source": [
    "def run_simulations_us(detectors, density=rho0, sound_speed=c0):\n",
    "    \"\"\"\n",
    "    Note: sensors is an 2-tuple of 1-d numpy arrays (x detector positions, y detector positions).\n",
    "    \"\"\"\n",
    "    if np.isscalar(density):\n",
    "        density = np.ones(domain.N) * density\n",
    "    density = FourierSeries(jnp.expand_dims(density, -1), domain)\n",
    "    if np.isscalar(sound_speed):\n",
    "        sound_speed = np.ones(domain.N) * sound_speed\n",
    "    sound_speed = FourierSeries(jnp.expand_dims(sound_speed, -1), domain)\n",
    "\n",
    "    medium = Medium(\n",
    "        domain=domain, sound_speed=sound_speed, density=density, pml_size=20\n",
    "    )\n",
    "\n",
    "    bli_sensors = BLISensorSource.from_positions_n(\n",
    "        positions=tuple(\n",
    "            map(jnp.array, positions_to_pixels(detectors[1], detectors[0]))\n",
    "        ),\n",
    "        n=domain.N,\n",
    "        signals=jnp.array(source),\n",
    "    )\n",
    "\n",
    "    @jit\n",
    "    def compiled_simulator(i=0):\n",
    "        signals = jnp.zeros_like(source)\n",
    "        signals = signals.at[i].set(s1)\n",
    "        bli_sensors.signals = signals\n",
    "        return simulate_wave_propagation(\n",
    "            medium,\n",
    "            time_axis,\n",
    "            sensors=bli_sensors,\n",
    "            settings=TimeWavePropagationSettings(smooth_initial=True),\n",
    "            sources=bli_sensors,\n",
    "        )\n",
    "\n",
    "    pressures = []\n",
    "    for i in tqdm(range(detectors[0].shape[0])):\n",
    "        pressure = compiled_simulator(i)\n",
    "        pressures.append(pressure)\n",
    "    return pressures"
   ]
  },
  {
   "cell_type": "code",
   "execution_count": null,
   "id": "12a2743e-3dd7-411e-83e4-d505e81de9ee",
   "metadata": {},
   "outputs": [],
   "source": [
    "pressures_linear = run_simulations_us((xsens, ysens), density, sound_speed)"
   ]
  },
  {
   "cell_type": "code",
   "execution_count": null,
   "id": "e9a0a481-3aaa-46df-a22b-39b6941ad22b",
   "metadata": {},
   "outputs": [],
   "source": [
    "pl = np.stack(pressures_linear)"
   ]
  },
  {
   "cell_type": "code",
   "execution_count": null,
   "id": "be5fa3e2-b3cf-4aa6-afc8-5879bef1d4e0",
   "metadata": {},
   "outputs": [],
   "source": [
    "np.save(\"intermediate_results/us_linear_inhomog.npy\", pl)"
   ]
  },
  {
   "cell_type": "code",
   "execution_count": null,
   "id": "851a9203-d911-4e3c-8ba1-99d14315c516",
   "metadata": {},
   "outputs": [],
   "source": [
    "pressures_arc = run_simulations_us((xsens_arc, ysens_arc), density, sound_speed)"
   ]
  },
  {
   "cell_type": "code",
   "execution_count": null,
   "id": "5b60e256-ab14-4dd9-a7d6-c25fb69b8b70",
   "metadata": {},
   "outputs": [],
   "source": [
    "pl = np.stack(pressures_arc)"
   ]
  },
  {
   "cell_type": "code",
   "execution_count": null,
   "id": "28d4cb23-7774-4870-a64b-6c26102ac816",
   "metadata": {},
   "outputs": [],
   "source": [
    "np.save(\"intermediate_results/us_arc_inhomog.npy\", pl)"
   ]
  },
  {
   "cell_type": "code",
   "execution_count": null,
   "id": "357deb3c-c7dd-4ad7-a5fc-8e202ec51e74",
   "metadata": {},
   "outputs": [],
   "source": [
    "pressures_linear = run_simulations_us((xsens, ysens), density, sound_speed)"
   ]
  },
  {
   "cell_type": "code",
   "execution_count": null,
   "id": "e3a8d5a6-63bd-4264-a7e4-3de41f68d223",
   "metadata": {},
   "outputs": [],
   "source": [
    "pl = np.stack(pressures_linear)"
   ]
  },
  {
   "cell_type": "code",
   "execution_count": null,
   "id": "cae16740-b0b3-481c-b560-24f8b7a59914",
   "metadata": {},
   "outputs": [],
   "source": [
    "np.save(\"intermediate_results/us_linear_inhomog.npy\", pl)"
   ]
  },
  {
   "cell_type": "code",
   "execution_count": null,
   "id": "b3112480-6617-4098-87dd-9289349e51c5",
   "metadata": {},
   "outputs": [],
   "source": []
  }
 ],
 "metadata": {
  "kernelspec": {
   "display_name": "Python 3 (ipykernel)",
   "language": "python",
   "name": "python3"
  },
  "language_info": {
   "codemirror_mode": {
    "name": "ipython",
    "version": 3
   },
   "file_extension": ".py",
   "mimetype": "text/x-python",
   "name": "python",
   "nbconvert_exporter": "python",
   "pygments_lexer": "ipython3",
   "version": "3.12.9"
  }
 },
 "nbformat": 4,
 "nbformat_minor": 5
}
