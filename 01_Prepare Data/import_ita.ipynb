{
 "cells": [
  {
   "cell_type": "code",
   "execution_count": 1,
   "id": "4e875055-6899-4f71-ae98-6f8c123a9fe0",
   "metadata": {
    "editable": true,
    "slideshow": {
     "slide_type": ""
    },
    "tags": []
   },
   "outputs": [],
   "source": [
    "import pandas as pd\n",
    "from pathlib import Path\n",
    "import re"
   ]
  },
  {
   "cell_type": "code",
   "execution_count": 2,
   "id": "503ff1df-88be-440c-ad3e-57959a5022ac",
   "metadata": {
    "editable": true,
    "slideshow": {
     "slide_type": ""
    },
    "tags": []
   },
   "outputs": [],
   "source": [
    "# data_folder = Path(\"ColourimeterData\")\n",
    "data_folder = Path(\"../\")\n",
    "regions = [\"phantom\", \"leg\", \"forearm\", \"neck\", \"bicep\", \"radial\"]\n",
    "proper_name = {\n",
    "    \"phantom\": \"Phantom\",\n",
    "    \"leg\": \"Leg\",\n",
    "    \"forearm\": \"Radial Artery\",\n",
    "    \"forarm\": \"Radial Artery\",\n",
    "    \"foreearm\": \"Radial Artery\",\n",
    "    \"foreaerm\": \"Radial Artery\",\n",
    "    \"radial\": \"Radial Artery\",\n",
    "    \"ulnar\": \"Ulnar Artery\",\n",
    "    \"brachialartery\": \"Brachial Artery\",\n",
    "    \"neck\": \"Carotid Artery\",\n",
    "    \"bicep\": \"Bicep\",\n",
    "    \"calf\": \"Leg\",\n",
    "    \"brachial artery\": \"Brachial Artery\",\n",
    "    \"radius\": \"Radial Artery\",\n",
    "    \"brachial\": \"Brachial Artery\",\n",
    "}\n",
    "\n",
    "\n",
    "def get_scan_location(x):\n",
    "    scan_regions = re.findall(\"|\".join(list(proper_name)), x.lower())\n",
    "    return proper_name[scan_regions[0]] if len(scan_regions) == 1 else None\n",
    "\n",
    "\n",
    "def get_pigmented(x):\n",
    "    # This is wrong.\n",
    "    if \"vitiligo\" in x.lower():\n",
    "        return \"Not Pigmented\"\n",
    "    elif \"not pigmented\" in x.lower():\n",
    "        return \"Not Pigmented\"\n",
    "    elif \"pigmented\" in x.lower():\n",
    "        return \"Pigmented\"\n",
    "    elif \" p \" in x.lower():\n",
    "        return \"Pigmented\"\n",
    "    elif \" np \" in x.lower():\n",
    "        return \"Not Pigmented\"\n",
    "    elif \"no pigment\" in x.lower():\n",
    "        return \"Not Pigmented\"\n",
    "    elif \"pigment\" in x.lower():\n",
    "        return \"Pigmented\"\n",
    "    return \"\""
   ]
  },
  {
   "cell_type": "markdown",
   "id": "d3a700b0-84e3-4c3d-943a-96a6b097a7f3",
   "metadata": {
    "editable": true,
    "slideshow": {
     "slide_type": ""
    },
    "tags": []
   },
   "source": [
    "# 1. Load all the colourimeter files in the data folder, extract the scan names/ID numbers etc."
   ]
  },
  {
   "cell_type": "code",
   "execution_count": 3,
   "id": "08562244-39b5-49fc-b36b-5073e4772610",
   "metadata": {
    "editable": true,
    "slideshow": {
     "slide_type": ""
    },
    "tags": []
   },
   "outputs": [],
   "source": [
    "details = []\n",
    "\n",
    "for file in data_folder.glob(\"**/*.cmf\"):\n",
    "    if file.stem[0] == \".\":\n",
    "        continue\n",
    "    skin_id = file.stem.split(\" - \")[-1]\n",
    "    # print(file)\n",
    "    df_col = pd.read_table(file, skiprows=2)\n",
    "    df_col.columns = [str.strip(c) for c in df_col.columns]\n",
    "    df_col[\"Region\"] = df_col[\"Label\"].apply(get_scan_location)\n",
    "    df_col[\"Pigment\"] = df_col[\"Label\"].apply(get_pigmented)\n",
    "    df_col[\"Side\"] = df_col[\"Label\"].apply(\n",
    "        lambda x: (\n",
    "            \"Left\" if \"left\" in x.lower() else \"Right\" if \"right\" in x.lower() else \"\"\n",
    "        )\n",
    "    )\n",
    "    df_col[\"SkinID\"] = skin_id\n",
    "    details.append(df_col)"
   ]
  },
  {
   "cell_type": "code",
   "execution_count": 4,
   "id": "f84c56cc-3f12-41b7-800b-5ed63953beda",
   "metadata": {},
   "outputs": [
    {
     "data": {
      "text/plain": [
       "Index(['Label', 'Date', 'Eryth.', 'Melanin', 'CIE-L*', 'CIE-a*', 'CIE-b*', 'X',\n",
       "       'Y', 'Z', 'Chroma', 'Hue', 'ITA', 'Gloss', 'sR', 'sG', 'sB', 'CF1',\n",
       "       'CF2', 'CF3', 'CF4', 'CF5', 'CF6', 'CF7', 'CF8', 'CNIR', 'CCLEAR',\n",
       "       'GF1', 'GF2', 'GF3', 'GF4', 'GF5', 'GF6', 'GF7', 'GF8', 'GNIR',\n",
       "       'GCLEAR', 'Calib.', 'Status', 'Region', 'Pigment', 'Side', 'SkinID'],\n",
       "      dtype='object')"
      ]
     },
     "execution_count": 4,
     "metadata": {},
     "output_type": "execute_result"
    }
   ],
   "source": [
    "details[0].columns"
   ]
  },
  {
   "cell_type": "code",
   "execution_count": 5,
   "id": "95c15a7e-309f-455a-a262-ef72b11ccd05",
   "metadata": {
    "editable": true,
    "slideshow": {
     "slide_type": ""
    },
    "tags": []
   },
   "outputs": [],
   "source": [
    "columns = [\n",
    "    \"SkinID\",\n",
    "    \"Region\",\n",
    "    \"Pigment\",\n",
    "    \"Side\",\n",
    "    \"ITA\",\n",
    "    \"CIE-L*\",\n",
    "    \"CIE-a*\",\n",
    "    \"CIE-b*\",\n",
    "    \"Melanin\",\n",
    "    \"Eryth.\",\n",
    "    \"sR\",\n",
    "    \"sG\",\n",
    "    \"sB\",\n",
    "]\n",
    "\n",
    "df = pd.concat(details).sort_values(\"SkinID\")\n",
    "df = df[columns].groupby(columns[:4]).mean().reset_index()"
   ]
  },
  {
   "cell_type": "code",
   "execution_count": 6,
   "id": "a118be28-b92f-4cf6-ab59-b7a2439865d2",
   "metadata": {},
   "outputs": [],
   "source": [
    "# Manually fix values for the SKIN36\n",
    "mask = df[\"SkinID\"] == \"SKIN36\"\n",
    "mask &= df[\"Region\"] == \"Carotid Artery\"\n",
    "mask &= df[\"Pigment\"] != \"Not Pigmented\"\n",
    "df.loc[mask, \"Pigment\"] = \"Pigmented\""
   ]
  },
  {
   "cell_type": "code",
   "execution_count": 7,
   "id": "b4f14c64-4aef-4f16-85fa-f936884ec5fd",
   "metadata": {},
   "outputs": [],
   "source": [
    "df = df.sort_values([\"SkinID\", \"Region\", \"Pigment\", \"Side\"])"
   ]
  },
  {
   "cell_type": "code",
   "execution_count": 8,
   "id": "1148e121-d319-4481-b4a6-9a920c0cb964",
   "metadata": {},
   "outputs": [],
   "source": [
    "df.to_parquet(\"ITA_raw.parquet\")"
   ]
  },
  {
   "cell_type": "code",
   "execution_count": null,
   "id": "ac8bf467-74ef-4b4a-b60e-764d6525764e",
   "metadata": {},
   "outputs": [],
   "source": []
  }
 ],
 "metadata": {
  "kernelspec": {
   "display_name": "Python 3 (ipykernel)",
   "language": "python",
   "name": "python3"
  },
  "language_info": {
   "codemirror_mode": {
    "name": "ipython",
    "version": 3
   },
   "file_extension": ".py",
   "mimetype": "text/x-python",
   "name": "python",
   "nbconvert_exporter": "python",
   "pygments_lexer": "ipython3",
   "version": "3.12.9"
  }
 },
 "nbformat": 4,
 "nbformat_minor": 5
}
