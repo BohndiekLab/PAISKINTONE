{
 "cells": [
  {
   "cell_type": "code",
   "execution_count": 1,
   "id": "a30a59ee-8090-4424-a458-4c5d71f96088",
   "metadata": {},
   "outputs": [],
   "source": [
    "import pandas as pd\n",
    "import numpy as np\n",
    "\n",
    "import patato as pat\n",
    "\n",
    "from paiskintonetools.correction_factor import get_correction_factor_interpolator\n",
    "\n",
    "from tqdm.auto import tqdm"
   ]
  },
  {
   "cell_type": "code",
   "execution_count": 2,
   "id": "642e03c9-2944-4cae-afc0-051f82cbe46e",
   "metadata": {},
   "outputs": [],
   "source": [
    "df_scans = pd.read_parquet(\"scan_table.parquet\")"
   ]
  },
  {
   "cell_type": "code",
   "execution_count": 3,
   "id": "268e7aab-0672-44e8-8e07-50d436e0da04",
   "metadata": {},
   "outputs": [],
   "source": [
    "cal_curve_file = \"../Fluence Correction/cali_curve.csv\"\n",
    "correction_factor_spline = get_correction_factor_interpolator(cal_curve_file)"
   ]
  },
  {
   "cell_type": "code",
   "execution_count": 4,
   "id": "4b1c8fab-d76d-47ed-886d-62c364263f00",
   "metadata": {},
   "outputs": [],
   "source": [
    "def unmix(rec):\n",
    "    wl = rec.wavelengths[rec.wavelengths < 900]\n",
    "    um = pat.SpectralUnmixer(chromophores=[\"Hb\", \"HbO2\"], wavelengths=wl)\n",
    "    u, _, _ = um.run(rec, None)\n",
    "\n",
    "    thber = pat.THbCalculator()\n",
    "    so2er = pat.SO2Calculator()\n",
    "\n",
    "    thb, _, _ = thber.run(u, None)\n",
    "    so2, _, _ = so2er.run(u, None)\n",
    "\n",
    "    return thb, so2\n",
    "\n",
    "\n",
    "def get_measurements(file, row):\n",
    "    pa = pat.PAData.from_hdf5(file)\n",
    "    pa.set_default_recon((\"Model Based\", \"0\"))\n",
    "    results = []\n",
    "    ita = row[\"ITA\"]\n",
    "    for n, roi in pa.get_rois().items():\n",
    "        row_output = dict(row)\n",
    "        row_output[\"ROI Name\"] = \" \".join(n[0].split(\"_\"))\n",
    "        row_output[\"ROI Number\"] = n[1]\n",
    "        for correct in [False, True]:\n",
    "            # Apply correction factor or not\n",
    "            rec = pa.get_scan_reconstructions()\n",
    "            rec = rec.copy()\n",
    "            rec.raw_data = np.copy(rec.raw_data)\n",
    "            if correct:\n",
    "                mvf = (19.028 - 0.3692 * ita + 0.001685 * ita**2) / 100\n",
    "                rec.raw_data *= np.exp(\n",
    "                    correction_factor_spline((rec.wavelengths, mvf))[\n",
    "                        None, :, None, None, None\n",
    "                    ]\n",
    "                )\n",
    "\n",
    "            thb, so2 = unmix(rec)\n",
    "            for measurement, positive in [\n",
    "                (\"spectrum\", False),\n",
    "                (\"spectrum\", True),\n",
    "                (\"thb\", False),\n",
    "                (\"thb\", True),\n",
    "                (\"so2\", None),\n",
    "            ]:\n",
    "                if measurement == \"spectrum\":\n",
    "                    calc = rec\n",
    "                elif measurement == \"thb\":\n",
    "                    calc = thb\n",
    "                elif measurement == \"so2\":\n",
    "                    calc = so2\n",
    "                if measurement == \"so2\":\n",
    "                    r = calc.raw_data\n",
    "                    r[thb.raw_data < 0] = np.nan\n",
    "                    r[r > 1.5] = np.nan\n",
    "                    r[r < 0] = np.nan\n",
    "                elif positive:\n",
    "                    r = calc.raw_data\n",
    "                    r[r < 0] = np.nan\n",
    "                mask, _ = roi.to_mask_slice(calc)\n",
    "                s = np.squeeze(calc.raw_data.T[mask.T].T)\n",
    "\n",
    "                for agg in [np.nanmean, np.nanmedian, np.nanstd]:\n",
    "                    n = agg.__name__[3:]\n",
    "                    f = (\n",
    "                        (\"corrected_\" if correct else \"\")\n",
    "                        + measurement\n",
    "                        + (\"_positive\" if positive else \"\")\n",
    "                        + \"_\"\n",
    "                        + n\n",
    "                    )\n",
    "                    row_output[f] = agg(s, axis=-1)\n",
    "        results.append(row_output)\n",
    "    return pd.DataFrame(results)"
   ]
  },
  {
   "cell_type": "code",
   "execution_count": 5,
   "id": "33163566-5f78-498a-be23-e17fc56d8124",
   "metadata": {
    "scrolled": true
   },
   "outputs": [
    {
     "data": {
      "application/vnd.jupyter.widget-view+json": {
       "model_id": "b2cf249de5b6439585dc76c62500b5d9",
       "version_major": 2,
       "version_minor": 0
      },
      "text/plain": [
       "  0%|          | 0/1504 [00:00<?, ?it/s]"
      ]
     },
     "metadata": {},
     "output_type": "display_data"
    }
   ],
   "source": [
    "import warnings\n",
    "\n",
    "# N.b. catching warnings because sometimes no pixels contain positive values\n",
    "with warnings.catch_warnings(action=\"ignore\"):\n",
    "    scans = []\n",
    "    for _, row in tqdm(df_scans.iterrows(), total=df_scans.shape[0]):\n",
    "        scans.append(get_measurements(row[\"File\"], row))"
   ]
  },
  {
   "cell_type": "code",
   "execution_count": 6,
   "id": "4b693093-5915-489a-8be2-939ba77064b7",
   "metadata": {},
   "outputs": [],
   "source": [
    "df_result = pd.concat(scans)"
   ]
  },
  {
   "cell_type": "code",
   "execution_count": 7,
   "id": "ecaae1ae-5941-4684-b9e7-07ad7f11f7d2",
   "metadata": {},
   "outputs": [],
   "source": [
    "df_result[\"ROI Name\"] = df_result[\"ROI Name\"].str.strip()"
   ]
  },
  {
   "cell_type": "code",
   "execution_count": 8,
   "id": "542af741-cafe-4418-ae7f-2e2c077b23b3",
   "metadata": {},
   "outputs": [],
   "source": [
    "df_result.to_parquet(\"pa_values_extracted.parquet\")"
   ]
  }
 ],
 "metadata": {
  "kernelspec": {
   "display_name": "project",
   "language": "python",
   "name": "project"
  },
  "language_info": {
   "codemirror_mode": {
    "name": "ipython",
    "version": 3
   },
   "file_extension": ".py",
   "mimetype": "text/x-python",
   "name": "python",
   "nbconvert_exporter": "python",
   "pygments_lexer": "ipython3",
   "version": "3.12.9"
  }
 },
 "nbformat": 4,
 "nbformat_minor": 5
}
