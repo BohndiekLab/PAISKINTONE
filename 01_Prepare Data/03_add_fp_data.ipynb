{
 "cells": [
  {
   "cell_type": "code",
   "execution_count": 1,
   "id": "35da771e-ac48-4a72-9ebb-4a7038802931",
   "metadata": {},
   "outputs": [],
   "source": [
    "import pandas as pd"
   ]
  },
  {
   "cell_type": "code",
   "execution_count": 2,
   "id": "c08a1487-3782-4933-b1de-6650d1aa976b",
   "metadata": {},
   "outputs": [],
   "source": [
    "df_fp = pd.read_excel(\"../SummaryTables/SummaryDetails.xlsx\")\n",
    "df_pa_all = pd.merge(pd.read_parquet(\"pa_values_extracted.parquet\"), df_fp)"
   ]
  },
  {
   "cell_type": "code",
   "execution_count": 3,
   "id": "3db2cc51-2336-4cd9-b79e-9eedfee2a0e9",
   "metadata": {},
   "outputs": [],
   "source": [
    "df_pa_all[\"Fitzpatrick Type\"] = df_pa_all[\"Fitzpatrick Type\"].astype(str)\n",
    "df_pa_all.to_parquet(\"pa_values_extracted_all_meta.parquet\")"
   ]
  }
 ],
 "metadata": {
  "kernelspec": {
   "display_name": "Python 3 (ipykernel)",
   "language": "python",
   "name": "python3"
  },
  "language_info": {
   "codemirror_mode": {
    "name": "ipython",
    "version": 3
   },
   "file_extension": ".py",
   "mimetype": "text/x-python",
   "name": "python",
   "nbconvert_exporter": "python",
   "pygments_lexer": "ipython3",
   "version": "3.12.9"
  }
 },
 "nbformat": 4,
 "nbformat_minor": 5
}
