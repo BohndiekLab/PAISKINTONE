{
 "cells": [
  {
   "cell_type": "markdown",
   "id": "634e0baf-f1a4-4580-8186-277a2414b96d",
   "metadata": {},
   "source": [
    "# Correct some typos in the scan names, and make sure that the files have attributes listing what the scans show.\n",
    "\n",
    "This was run interactively to make sure all scan names are consistent"
   ]
  },
  {
   "cell_type": "code",
   "execution_count": 1,
   "id": "51dd2375-25c0-4427-977c-1f081a18761c",
   "metadata": {},
   "outputs": [],
   "source": [
    "from pathlib import Path\n",
    "import patato as pat\n",
    "import re"
   ]
  },
  {
   "cell_type": "code",
   "execution_count": 2,
   "id": "34b3648b-e59c-4869-acd7-f78fb1b52cc6",
   "metadata": {},
   "outputs": [],
   "source": [
    "data = Path(\"../\")"
   ]
  },
  {
   "cell_type": "code",
   "execution_count": 3,
   "id": "d0fdfe4e-5d98-4ec2-9492-7f0e37466427",
   "metadata": {},
   "outputs": [
    {
     "name": "stdout",
     "output_type": "stream",
     "text": [
      "^(?:((?:left)|(?:right))-)?((?:bicep)|(?:forearm)|(?:leg)|(?:neck)|(?:brachialartery)|(?:upperforearm)|(?:ulnar))(?:-((?:parallel)|(?:pigment)|(?:nopigment)|(?:paralleltwopigment)|(?:parallelalt)))?(?:([0-9])|-)([a-z])$\n"
     ]
    }
   ],
   "source": [
    "allowable_regions = [\"bicep\", \"forearm\", \"leg\", \"neck\"]\n",
    "allowable_regions += [\"brachialartery\", \"upperforearm\", \"ulnar\"]\n",
    "\n",
    "pattern_regions = \"|\".join([f\"(?:{x})\" for x in allowable_regions])\n",
    "\n",
    "position_descriptors = [\n",
    "    \"parallel\",\n",
    "    \"pigment\",\n",
    "    \"nopigment\",\n",
    "    \"paralleltwopigment\",\n",
    "    \"parallelalt\",\n",
    "]\n",
    "pattern_position = \"|\".join([f\"(?:{x})\" for x in position_descriptors])\n",
    "\n",
    "allowable_scan_name_pattern = (\n",
    "    r\"^(?:((?:left)|(?:right))-)?(\"\n",
    "    + pattern_regions\n",
    "    + \")(?:-(\"\n",
    "    + pattern_position\n",
    "    + \"))?(?:([0-9])|-)([a-z])$\"\n",
    ")\n",
    "close_scan_name_pattern = (\n",
    "    r\"^(?:((?:left)|(?:right))-)?(\"\n",
    "    + pattern_regions\n",
    "    + \")(?:-(\"\n",
    "    + pattern_position\n",
    "    + \"))?-(?:([0-9])|-)([a-z])$\"\n",
    ")\n",
    "\n",
    "ignore_scan_name = \"Scan_[0-9]*\"\n",
    "\n",
    "print(allowable_scan_name_pattern)"
   ]
  },
  {
   "cell_type": "code",
   "execution_count": 4,
   "id": "1366a102-2186-4b21-a7af-d9c71a7830ec",
   "metadata": {},
   "outputs": [
    {
     "name": "stdout",
     "output_type": "stream",
     "text": [
      "[('', 'forearm', 'paralleltwopigment', '', 'a')]\n",
      "<re.Match object; span=(0, 7), match='Scan_50'>\n"
     ]
    }
   ],
   "source": [
    "print(re.findall(allowable_scan_name_pattern, \"forearm-paralleltwopigment-a\"))\n",
    "print(re.match(ignore_scan_name, \"Scan_50\"))"
   ]
  },
  {
   "cell_type": "code",
   "execution_count": 5,
   "id": "2b166dd1-357f-421f-8af9-b8ea3f96a159",
   "metadata": {},
   "outputs": [],
   "source": [
    "s = set()\n",
    "\n",
    "for f in data.glob(\"**/*.hdf5\"):\n",
    "    p = pat.PAData.from_hdf5(f, \"r\")\n",
    "    if re.findall(allowable_scan_name_pattern, p.get_scan_name()):\n",
    "        continue\n",
    "\n",
    "    # Interactively apply correction to scan names here:\n",
    "\n",
    "    s.add(p.get_scan_name())\n",
    "    p.scan_reader.file.close()"
   ]
  },
  {
   "cell_type": "code",
   "execution_count": null,
   "id": "5e3b9fdb-b9da-43db-b2de-6ca843a3621e",
   "metadata": {},
   "outputs": [],
   "source": []
  }
 ],
 "metadata": {
  "kernelspec": {
   "display_name": "Python 3 (ipykernel)",
   "language": "python",
   "name": "python3"
  },
  "language_info": {
   "codemirror_mode": {
    "name": "ipython",
    "version": 3
   },
   "file_extension": ".py",
   "mimetype": "text/x-python",
   "name": "python",
   "nbconvert_exporter": "python",
   "pygments_lexer": "ipython3",
   "version": "3.12.9"
  }
 },
 "nbformat": 4,
 "nbformat_minor": 5
}
